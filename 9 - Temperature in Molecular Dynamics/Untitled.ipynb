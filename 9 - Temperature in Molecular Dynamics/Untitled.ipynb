{
 "cells": [
  {
   "cell_type": "markdown",
   "metadata": {},
   "source": [
    "# Занятие 9: Изучение работы методов контроля температуры в молекулярной динамике\n",
    "\n",
    "### Лев Мазаев, мАДМБ 18"
   ]
  },
  {
   "cell_type": "markdown",
   "metadata": {},
   "source": [
    "### 1. Подготовка файла координат и файла топологии"
   ]
  },
  {
   "cell_type": "markdown",
   "metadata": {},
   "source": [
    "Скачаем файл координат:"
   ]
  },
  {
   "cell_type": "code",
   "execution_count": 2,
   "metadata": {},
   "outputs": [],
   "source": [
    "%%bash\n",
    "wget -q -nc -O et.gro http://kodomo.fbb.msu.ru/FBB/year_08/term6/etane.gro"
   ]
  },
  {
   "cell_type": "markdown",
   "metadata": {},
   "source": [
    "У нас есть шаблон файла топологии:\n",
    "\n",
    "```\n",
    "#include \"/usr/share/gromacs/top/oplsaa.ff/forcefield.itp\" \n",
    "\n",
    "[ moleculetype ]\n",
    "; Name            nrexcl\n",
    "et            3\n",
    "\n",
    "[ atoms ]\n",
    ";   nr  type  resnr  residue  atom   cgnr     charge       mass\n",
    "    1   CX      1    ETH      C1      1    -0.189      12.01\n",
    "    2   CX      1    ETH      C2      2    -0.155      12.01\n",
    "    3   HX      1    ETH      H1      3     0.0059       1.008\n",
    "    4   HX      1    ETH      H2      4     0.0059       1.008\n",
    "    5   HX      1    ETH      H3      5     0.0059       1.008\n",
    "    6   HX      1    ETH      H4      6     0.0056       1.008\n",
    "    7   HX      1    ETH      H5      7     0.0056       1.008\n",
    "    8   HX      1    ETH      H6      8     0.0056       1.008\n",
    "\n",
    "[ bonds ]\n",
    ";  ai    aj funct  b0       kb\n",
    "     1   2   1  \n",
    "     1   3   1\n",
    "     1   4   1  \n",
    "     1   5   1  \n",
    "........... \n",
    "надо дописать\n",
    "\n",
    "[ angles ]\n",
    ";  ai    aj    ak funct  phi0   kphi\n",
    ";around c1\n",
    "    3     1     4     1  \n",
    "    4     1     5     1  \n",
    "    3     1     5     1  \n",
    "    2     1     3     1  \n",
    "    2     1     4     1  \n",
    "    2     1     5     1  \n",
    ";around c2\n",
    "........... \n",
    "надо дописать \n",
    "\n",
    "[ dihedrals ]\n",
    ";  ai    aj    ak    al funct  \n",
    "    3    1     2     6      1  \n",
    "    3    1     2     7      1 \n",
    "    3    1     2     8      1  \n",
    "    4    1     2     6      1  \n",
    " ........... \n",
    "надо дописать \n",
    "\n",
    "[ pairs ]\n",
    "; список атомов 1-4\n",
    ";  ai    aj funct\n",
    "   3  6\n",
    "   3  7\n",
    "   3  8\n",
    "   4  6\n",
    "   4  7\n",
    "   4  8\n",
    "   5  6\n",
    "   5  7\n",
    "   5  8\n",
    "\n",
    "[ System ]\n",
    "; any text here\n",
    "first one\n",
    "[ molecules ]\n",
    ";Name count\n",
    " et    1\n",
    "```"
   ]
  }
 ],
 "metadata": {
  "kernelspec": {
   "display_name": "Python 3",
   "language": "python",
   "name": "python3"
  },
  "language_info": {
   "codemirror_mode": {
    "name": "ipython",
    "version": 3
   },
   "file_extension": ".py",
   "mimetype": "text/x-python",
   "name": "python",
   "nbconvert_exporter": "python",
   "pygments_lexer": "ipython3",
   "version": "3.7.5"
  }
 },
 "nbformat": 4,
 "nbformat_minor": 2
}
