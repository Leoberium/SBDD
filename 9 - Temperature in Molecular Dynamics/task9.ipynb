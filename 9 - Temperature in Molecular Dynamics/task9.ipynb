{
 "cells": [
  {
   "cell_type": "markdown",
   "metadata": {},
   "source": [
    "# Занятие 9: Изучение работы методов контроля температуры в молекулярной динамике\n",
    "\n",
    "### Лев Мазаев, мАДМБ 18"
   ]
  },
  {
   "cell_type": "code",
   "execution_count": 1,
   "metadata": {},
   "outputs": [
    {
     "data": {
      "application/vnd.jupyter.widget-view+json": {
       "model_id": "3135de424e1745898ddee5a85136cb4e",
       "version_major": 2,
       "version_minor": 0
      },
      "text/plain": [
       "_ColormakerRegistry()"
      ]
     },
     "metadata": {},
     "output_type": "display_data"
    },
    {
     "name": "stderr",
     "output_type": "stream",
     "text": [
      "RDKit WARNING: [15:30:50] Enabling RDKit 2019.09.2 jupyter extensions\n"
     ]
    }
   ],
   "source": [
    "# Visualization\n",
    "import nglview as nv\n",
    "\n",
    "# Working with Molecules\n",
    "from rdkit import Chem\n",
    "from rdkit.Chem import AllChem"
   ]
  },
  {
   "cell_type": "markdown",
   "metadata": {},
   "source": [
    "### 1. Подготовка файла координат и файла топологии"
   ]
  },
  {
   "cell_type": "markdown",
   "metadata": {},
   "source": [
    "Скачаем файл координат:"
   ]
  },
  {
   "cell_type": "code",
   "execution_count": 2,
   "metadata": {},
   "outputs": [],
   "source": [
    "%%bash\n",
    "wget -q -nc http://kodomo.fbb.msu.ru/FBB/year_08/term6/etane.gro\n",
    "mv etane.gro et.gro"
   ]
  },
  {
   "cell_type": "markdown",
   "metadata": {},
   "source": [
    "У нас есть шаблон файла топологии:\n",
    "\n",
    "```\n",
    "#include \"/usr/share/gromacs/top/oplsaa.ff/forcefield.itp\" \n",
    "\n",
    "[ moleculetype ]\n",
    "; Name            nrexcl\n",
    "et            3\n",
    "\n",
    "[ atoms ]\n",
    ";   nr  type  resnr  residue  atom   cgnr     charge       mass\n",
    "    1   CX      1    ETH      C1      1    -0.189      12.01\n",
    "    2   CX      1    ETH      C2      2    -0.155      12.01\n",
    "    3   HX      1    ETH      H1      3     0.0059       1.008\n",
    "    4   HX      1    ETH      H2      4     0.0059       1.008\n",
    "    5   HX      1    ETH      H3      5     0.0059       1.008\n",
    "    6   HX      1    ETH      H4      6     0.0056       1.008\n",
    "    7   HX      1    ETH      H5      7     0.0056       1.008\n",
    "    8   HX      1    ETH      H6      8     0.0056       1.008\n",
    "\n",
    "[ bonds ]\n",
    ";  ai    aj funct  b0       kb\n",
    "     1   2   1  \n",
    "     1   3   1\n",
    "     1   4   1  \n",
    "     1   5   1  \n",
    "........... \n",
    "надо дописать\n",
    "\n",
    "[ angles ]\n",
    ";  ai    aj    ak funct  phi0   kphi\n",
    ";around c1\n",
    "    3     1     4     1  \n",
    "    4     1     5     1  \n",
    "    3     1     5     1  \n",
    "    2     1     3     1  \n",
    "    2     1     4     1  \n",
    "    2     1     5     1  \n",
    ";around c2\n",
    "........... \n",
    "надо дописать \n",
    "\n",
    "[ dihedrals ]\n",
    ";  ai    aj    ak    al funct  \n",
    "    3    1     2     6      1  \n",
    "    3    1     2     7      1 \n",
    "    3    1     2     8      1  \n",
    "    4    1     2     6      1  \n",
    " ........... \n",
    "надо дописать \n",
    "\n",
    "[ pairs ]\n",
    "; список атомов 1-4\n",
    ";  ai    aj funct\n",
    "   3  6\n",
    "   3  7\n",
    "   3  8\n",
    "   4  6\n",
    "   4  7\n",
    "   4  8\n",
    "   5  6\n",
    "   5  7\n",
    "   5  8\n",
    "\n",
    "[ System ]\n",
    "; any text here\n",
    "first one\n",
    "[ molecules ]\n",
    ";Name count\n",
    " et    1\n",
    "```\n",
    "\n",
    "Нужно его дополнить, чтобы получить правильный файл. В пакете gromacs есть функция [x2top](http://manual.gromacs.org/documentation/5.1.1/onlinehelp/gmx-x2top.html), которая генерирует примитивный файл топологии на основе структуры. Можно этим воспользоваться:\n",
    "\n",
    "```bash\n",
    "gmx x2top -f et.gro -o preet.top -ff oplsaa\n",
    "```"
   ]
  },
  {
   "cell_type": "code",
   "execution_count": 3,
   "metadata": {
    "scrolled": false
   },
   "outputs": [
    {
     "name": "stdout",
     "output_type": "stream",
     "text": [
      ";\r\n",
      ";\tFile 'preet.top' was generated\r\n",
      ";\tBy user: leo (1000)\r\n",
      ";\tOn host: MS7922\r\n",
      ";\tAt date: Mon Dec 16 15:05:28 2019\r\n",
      ";\r\n",
      ";\tThis is a include topology file\r\n",
      ";\r\n",
      ";\tCreated by:\r\n",
      ";\t                     :-) GROMACS - gmx x2top, 2019.4 (-:\r\n",
      ";\t\r\n",
      ";\tExecutable:   /usr/local/gromacs/bin/gmx\r\n",
      ";\tData prefix:  /usr/local/gromacs\r\n",
      ";\tWorking dir:  /home/leo/ME/HSE/Chem/9 - Temperature in Molecular Dynamics\r\n",
      ";\tCommand line:\r\n",
      ";\t  gmx x2top -f et.gro -o preet.top -ff oplsaa\r\n",
      ";\tForce field was read from the standard GROMACS share directory.\r\n",
      ";\r\n",
      "\r\n",
      "; Include forcefield parameters\r\n",
      "#include \"oplsaa.ff/forcefield.itp\"\r\n",
      "\r\n",
      "[ moleculetype ]\r\n",
      "; Name            nrexcl\r\n",
      "ICE                 3\r\n",
      "\r\n",
      "[ atoms ]\r\n",
      ";   nr       type  resnr residue  atom   cgnr     charge       mass  typeB    chargeB      massB\r\n",
      "     1   opls_157      1    ETH     C1      1      -0.18     12.011\r\n",
      "     2   opls_157      1    ETH     C2      1      -0.18     12.011\r\n",
      "     3   opls_140      1    ETH     H1      1       0.06      1.008\r\n",
      "     4   opls_140      1    ETH     H2      1       0.06      1.008\r\n",
      "     5   opls_140      1    ETH     H3      1       0.06      1.008\r\n",
      "     6   opls_140      1    ETH     H4      1       0.06      1.008\r\n",
      "     7   opls_140      1    ETH     H5      1       0.06      1.008\r\n",
      "     8   opls_140      1    ETH     H6      1       0.06      1.008   ; qtot 0\r\n",
      "\r\n",
      "[ bonds ]\r\n",
      ";  ai    aj funct            c0            c1            c2            c3\r\n",
      "    1     2     1  1.530000e-01  4.000000e+05  1.530000e-01  4.000000e+05 \r\n",
      "    1     3     1  1.080000e-01  4.000000e+05  1.080000e-01  4.000000e+05 \r\n",
      "    1     4     1  1.080000e-01  4.000000e+05  1.080000e-01  4.000000e+05 \r\n",
      "    1     5     1  1.090000e-01  4.000000e+05  1.090000e-01  4.000000e+05 \r\n",
      "    2     6     1  1.080000e-01  4.000000e+05  1.080000e-01  4.000000e+05 \r\n",
      "    2     7     1  1.080000e-01  4.000000e+05  1.080000e-01  4.000000e+05 \r\n",
      "    2     8     1  1.090000e-01  4.000000e+05  1.090000e-01  4.000000e+05 \r\n",
      "\r\n",
      "[ pairs ]\r\n",
      ";  ai    aj funct            c0            c1            c2            c3\r\n",
      "    3     6     1 \r\n",
      "    3     7     1 \r\n",
      "    3     8     1 \r\n",
      "    4     6     1 \r\n",
      "    4     7     1 \r\n",
      "    4     8     1 \r\n",
      "    5     6     1 \r\n",
      "    5     7     1 \r\n",
      "    5     8     1 \r\n",
      "\r\n",
      "[ angles ]\r\n",
      ";  ai    aj    ak funct            c0            c1            c2            c3\r\n",
      "    2     1     3     1  1.100000e+02  4.000000e+02  1.100000e+02  4.000000e+02 \r\n",
      "    2     1     4     1  1.100000e+02  4.000000e+02  1.100000e+02  4.000000e+02 \r\n",
      "    2     1     5     1  1.100000e+02  4.000000e+02  1.100000e+02  4.000000e+02 \r\n",
      "    3     1     4     1  1.090000e+02  4.000000e+02  1.090000e+02  4.000000e+02 \r\n",
      "    3     1     5     1  1.100000e+02  4.000000e+02  1.100000e+02  4.000000e+02 \r\n",
      "    4     1     5     1  1.090000e+02  4.000000e+02  1.090000e+02  4.000000e+02 \r\n",
      "    1     2     6     1  1.100000e+02  4.000000e+02  1.100000e+02  4.000000e+02 \r\n",
      "    1     2     7     1  1.100000e+02  4.000000e+02  1.100000e+02  4.000000e+02 \r\n",
      "    1     2     8     1  1.090000e+02  4.000000e+02  1.090000e+02  4.000000e+02 \r\n",
      "    6     2     7     1  1.100000e+02  4.000000e+02  1.100000e+02  4.000000e+02 \r\n",
      "    6     2     8     1  1.090000e+02  4.000000e+02  1.090000e+02  4.000000e+02 \r\n",
      "    7     2     8     1  1.100000e+02  4.000000e+02  1.100000e+02  4.000000e+02 \r\n",
      "\r\n",
      "[ dihedrals ]\r\n",
      ";  ai    aj    ak    al funct            c0            c1            c2            c3            c4            c5\r\n",
      "    3     1     2     6     3  2.000000e+00  5.000000e+00  3.000000e+00  2.000000e+00  5.000000e+00  3.000000e+00 \r\n",
      "\r\n",
      "[ system ]\r\n",
      "; Name\r\n",
      "ICE\r\n",
      "\r\n",
      "[ molecules ]\r\n",
      "; Compound        #mols\r\n",
      "ICE                 1\r\n"
     ]
    }
   ],
   "source": [
    "! cat preet.top"
   ]
  },
  {
   "cell_type": "markdown",
   "metadata": {},
   "source": [
    "Типы атомов в oplsaa.ff: атомы opls с 135 по 140 - специально для алканов (т. е. и этана). То есть для водорода `x2top` предложила правильный тип **opls_140 - alkane H**, а вот **opls_157 - all-atom C: CH3 & CH2, alcohols** пожалуй не самый удачный. Заменим его на **opls_135 - alkane CH3**.\n",
    "\n",
    "Также нам нужно дописать углы и связи в исходной топологии, в чем нам поможет результат `x2top`, а также `rdkit`. Визуализируем этан:"
   ]
  },
  {
   "cell_type": "code",
   "execution_count": 11,
   "metadata": {},
   "outputs": [
    {
     "data": {
      "application/vnd.jupyter.widget-view+json": {
       "model_id": "b7bcfae29ef944b1a2dfcc6a70c01830",
       "version_major": 2,
       "version_minor": 0
      },
      "text/plain": [
       "NGLWidget()"
      ]
     },
     "metadata": {},
     "output_type": "display_data"
    }
   ],
   "source": [
    "ethane = Chem.MolFromSmiles('CC')\n",
    "ethane.Compute2DCoords()\n",
    "ethane = Chem.AddHs(ethane)\n",
    "AllChem.EmbedMolecule(ethane)\n",
    "AllChem.MMFFOptimizeMolecule(ethane, maxIters=500, nonBondedThresh=200)\n",
    "v = nv.show_rdkit(ethane)\n",
    "v"
   ]
  },
  {
   "cell_type": "markdown",
   "metadata": {},
   "source": [
    "Химические связи (bonds):"
   ]
  },
  {
   "cell_type": "code",
   "execution_count": 21,
   "metadata": {},
   "outputs": [
    {
     "name": "stdout",
     "output_type": "stream",
     "text": [
      "1 2\n",
      "1 3\n",
      "1 4\n",
      "1 5\n",
      "2 6\n",
      "2 7\n",
      "2 8\n"
     ]
    }
   ],
   "source": [
    "for b in ethane.GetBonds():\n",
    "    print(b.GetBeginAtomIdx() + 1, b.GetEndAtomIdx() + 1)"
   ]
  },
  {
   "cell_type": "markdown",
   "metadata": {},
   "source": [
    "Углы (angles):"
   ]
  },
  {
   "cell_type": "code",
   "execution_count": 23,
   "metadata": {},
   "outputs": [
    {
     "name": "stdout",
     "output_type": "stream",
     "text": [
      "2 1 3\n",
      "2 1 4\n",
      "2 1 5\n",
      "3 1 2\n",
      "3 1 4\n",
      "3 1 5\n",
      "4 1 2\n",
      "4 1 3\n",
      "4 1 5\n",
      "5 1 2\n",
      "5 1 3\n",
      "5 1 4\n",
      "6 2 7\n",
      "6 2 8\n",
      "7 2 6\n",
      "7 2 8\n",
      "8 2 6\n",
      "8 2 7\n"
     ]
    }
   ],
   "source": [
    "for b1 in ethane.GetBonds():\n",
    "    for b2 in ethane.GetBonds():\n",
    "        if b1.GetBeginAtomIdx() == b2.GetBeginAtomIdx() and b1.GetIdx() != b2.GetIdx():\n",
    "            print(b1.GetEndAtomIdx() + 1, b1.GetBeginAtomIdx() + 1, b2.GetEndAtomIdx() + 1)"
   ]
  }
 ],
 "metadata": {
  "kernelspec": {
   "display_name": "Python 3",
   "language": "python",
   "name": "python3"
  },
  "language_info": {
   "codemirror_mode": {
    "name": "ipython",
    "version": 3
   },
   "file_extension": ".py",
   "mimetype": "text/x-python",
   "name": "python",
   "nbconvert_exporter": "python",
   "pygments_lexer": "ipython3",
   "version": "3.7.5"
  }
 },
 "nbformat": 4,
 "nbformat_minor": 2
}
