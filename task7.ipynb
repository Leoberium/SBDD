{
 "cells": [
  {
   "cell_type": "markdown",
   "metadata": {},
   "source": [
    "## Занятие 7: Докинг низкомолекулярных лигандов в структуру белка\n",
    "\n",
    "### Лев Мазаев, мАДБМ18"
   ]
  },
  {
   "cell_type": "markdown",
   "metadata": {},
   "source": [
    "### Загрузка модулей"
   ]
  },
  {
   "cell_type": "code",
   "execution_count": 1,
   "metadata": {},
   "outputs": [
    {
     "name": "stderr",
     "output_type": "stream",
     "text": [
      "RDKit WARNING: [23:51:15] Enabling RDKit 2019.09.2 jupyter extensions\n"
     ]
    },
    {
     "data": {
      "application/vnd.jupyter.widget-view+json": {
       "model_id": "4652e0a305da432e804f8b25365e02a1",
       "version_major": 2,
       "version_minor": 0
      },
      "text/plain": [
       "_ColormakerRegistry()"
      ]
     },
     "metadata": {},
     "output_type": "display_data"
    }
   ],
   "source": [
    "import numpy as np\n",
    "\n",
    "# Loading Open Drug Discovery Toolkit\n",
    "import oddt\n",
    "import oddt.docking\n",
    "import oddt.interactions\n",
    "\n",
    "# Structures import and visualization\n",
    "from Bio.PDB import *\n",
    "from ipywidgets import VBox, HBox\n",
    "import IPython.display as ipd\n",
    "import nglview as nv\n",
    "\n",
    "# Working with SMILES\n",
    "from rdkit import Chem\n",
    "\n",
    "# Working with tables\n",
    "import pandas as pd"
   ]
  },
  {
   "cell_type": "markdown",
   "metadata": {},
   "source": [
    "### Разделение белка и лиганда\n",
    "\n",
    "Визуализируем структуру белка с лигандом:"
   ]
  },
  {
   "cell_type": "code",
   "execution_count": 2,
   "metadata": {
    "scrolled": true
   },
   "outputs": [
    {
     "data": {
      "application/vnd.jupyter.widget-view+json": {
       "model_id": "68883a25fc8c4408a9d6afa0c6efc0a4",
       "version_major": 2,
       "version_minor": 0
      },
      "text/plain": [
       "NGLWidget()"
      ]
     },
     "metadata": {},
     "output_type": "display_data"
    }
   ],
   "source": [
    "view1 = nv.show_structure_file('lys_pig_ligand.B99990002.pdb')\n",
    "view1._remote_call('setSize', target='Widget', args=['640px', '480px'])\n",
    "view1.representations = [\n",
    "    {\"type\": \"cartoon\", \"params\": {\"sele\": \"protein\", \"color\": \"residueindex\"}},\n",
    "    {\"type\": \"ball+stick\", \"params\": {\"sele\": \"ligand\"}}\n",
    "]\n",
    "view1"
   ]
  },
  {
   "cell_type": "markdown",
   "metadata": {},
   "source": [
    "Загрузим структуру и посмотрим остатки:"
   ]
  },
  {
   "cell_type": "code",
   "execution_count": 3,
   "metadata": {},
   "outputs": [
    {
     "name": "stdout",
     "output_type": "stream",
     "text": [
      "<Residue ILE het=  resseq=141 icode= >\n",
      "<Residue ARG het=  resseq=142 icode= >\n",
      "<Residue GLY het=  resseq=143 icode= >\n",
      "<Residue CYS het=  resseq=144 icode= >\n",
      "<Residue LYS het=  resseq=145 icode= >\n",
      "<Residue LEU het=  resseq=146 icode= >\n",
      "<Residue NAG het=H_NAG resseq=147 icode= >\n",
      "<Residue NAG het=H_NAG resseq=148 icode= >\n",
      "<Residue NDG het=H_NDG resseq=149 icode= >\n"
     ]
    }
   ],
   "source": [
    "parser = PDBParser()\n",
    "pdb = parser.get_structure('lys_pig_ligand', 'lys_pig_ligand.B99990002.pdb')\n",
    "\n",
    "for res in pdb.get_residues():\n",
    "    if res.id[1] > 140:\n",
    "        print(res)"
   ]
  },
  {
   "cell_type": "markdown",
   "metadata": {},
   "source": [
    "147-149 остатки в структуре - лиганд. Создадим отдельные объекты белка и лиганда:"
   ]
  },
  {
   "cell_type": "code",
   "execution_count": 4,
   "metadata": {},
   "outputs": [],
   "source": [
    "class NonHetSelect(Select):\n",
    "    \n",
    "    def accept_residue(self, residue):\n",
    "        return 1 if residue.id[0] == ' ' else 0\n",
    "    \n",
    "class HetSelect(Select):\n",
    "    \n",
    "    def accept_residue(self, residue):\n",
    "        return 0 if residue.id[0] == ' ' else 1\n",
    "    \n",
    "io = PDBIO()\n",
    "io.set_structure(pdb)\n",
    "io.save('protein.pdb', NonHetSelect())\n",
    "io.save('ligand.pdb', HetSelect())"
   ]
  },
  {
   "cell_type": "markdown",
   "metadata": {},
   "source": [
    "Найдем геометрический центр лиганда:"
   ]
  },
  {
   "cell_type": "code",
   "execution_count": 5,
   "metadata": {},
   "outputs": [
    {
     "name": "stdout",
     "output_type": "stream",
     "text": [
      "[46.8601162  32.48079069 31.7858138 ]\n"
     ]
    }
   ],
   "source": [
    "ligand = parser.get_structure('ligand', 'ligand.pdb')\n",
    "atom_coords = []\n",
    "\n",
    "for atom in ligand.get_atoms():\n",
    "    v = atom.get_vector()\n",
    "    atom_coords.append(v.get_array())\n",
    "    \n",
    "geom_center = np.mean(atom_coords, axis=0)\n",
    "print(geom_center)"
   ]
  },
  {
   "cell_type": "markdown",
   "metadata": {},
   "source": [
    "### Подготовка белка для докинга"
   ]
  },
  {
   "cell_type": "code",
   "execution_count": 6,
   "metadata": {},
   "outputs": [
    {
     "data": {
      "text/plain": [
       "True"
      ]
     },
     "execution_count": 6,
     "metadata": {},
     "output_type": "execute_result"
    }
   ],
   "source": [
    "protein = next(oddt.toolkit.readfile('pdb', 'protein.pdb'))\n",
    "protein.OBMol.AddPolarHydrogens()\n",
    "protein.OBMol.AutomaticPartialCharge()"
   ]
  },
  {
   "cell_type": "code",
   "execution_count": 7,
   "metadata": {},
   "outputs": [
    {
     "name": "stdout",
     "output_type": "stream",
     "text": [
      "Is it protein? False\n",
      "Molecular weight: 16475.905\n"
     ]
    }
   ],
   "source": [
    "print(f'Is it protein? {protein.protein}')\n",
    "print(f'Molecular weight: {round(protein.molwt, 3)}')\n",
    "protein.protein = True  # исправим"
   ]
  },
  {
   "cell_type": "markdown",
   "metadata": {},
   "source": [
    "### Лиганды для докинга\n",
    "\n",
    "Отобразим исходный лиганд в двухмерном виде:"
   ]
  },
  {
   "cell_type": "code",
   "execution_count": 8,
   "metadata": {},
   "outputs": [
    {
     "name": "stdout",
     "output_type": "stream",
     "text": [
      "NAG NAG NDG\n"
     ]
    },
    {
     "data": {
      "image/svg+xml": [
       "<svg height=\"500px\" id=\"topsvg\" version=\"1.1\" viewBox=\"0 0 100 100\" width=\"500px\" x=\"0\" xmlns=\"http://www.w3.org/2000/svg\" xmlns:cml=\"http://www.xml-cml.org/schema\" xmlns:xlink=\"http://www.w3.org/1999/xlink\" y=\"0\">\n",
       "<title>ligand.pdb - Open Babel Depiction</title>\n",
       "<rect fill=\"white\" height=\"100\" width=\"100\" x=\"0\" y=\"0\"/>\n",
       "<g transform=\"translate(0,0)\">\n",
       "<svg font-family=\"sans-serif\" height=\"100\" stroke=\"rgb(0,0,0)\" stroke-linecap=\"round\" stroke-width=\"2\" viewBox=\"0 0 530.333 440\" width=\"100\" x=\"0\" y=\"0\">\n",
       "<line stroke=\"rgb(0,0,0)\" stroke-width=\"2.0\" x1=\"282.5\" x2=\"282.5\" y1=\"247.0\" y2=\"220.0\"/>\n",
       "<line stroke=\"rgb(0,0,0)\" stroke-width=\"1.0\" x1=\"310.6\" x2=\"309.8\" y1=\"204.7\" y2=\"203.3\"/>\n",
       "<line stroke=\"rgb(0,0,0)\" stroke-width=\"1.0\" x1=\"305.4\" x2=\"303.9\" y1=\"208.4\" y2=\"206.0\"/>\n",
       "<line stroke=\"rgb(0,0,0)\" stroke-width=\"1.0\" x1=\"300.2\" x2=\"298.1\" y1=\"212.2\" y2=\"208.6\"/>\n",
       "<line stroke=\"rgb(0,0,0)\" stroke-width=\"1.0\" x1=\"294.9\" x2=\"292.2\" y1=\"216.0\" y2=\"211.2\"/>\n",
       "<line stroke=\"rgb(0,0,0)\" stroke-width=\"1.0\" x1=\"289.7\" x2=\"286.3\" y1=\"219.7\" y2=\"213.9\"/>\n",
       "<line stroke=\"rgb(0,0,0)\" stroke-width=\"1.0\" x1=\"284.5\" x2=\"280.5\" y1=\"223.5\" y2=\"216.5\"/>\n",
       "<line stroke=\"rgb(0,0,0)\" stroke-width=\"2.0\" x1=\"155.2\" x2=\"178.6\" y1=\"93.5\" y2=\"80.0\"/>\n",
       "<polygon fill=\"rgb(0,0,0)\" points=\"386.410162 200.000000 411.619642 209.935898 407.619642 216.864102 \" stroke=\"rgb(0,0,0)\" stroke-width=\"2.000000\"/>\n",
       "<polygon fill=\"rgb(0,0,0)\" points=\"386.410162 160.000000 407.619642 143.135898 411.619642 150.064102 \" stroke=\"rgb(0,0,0)\" stroke-width=\"2.000000\"/>\n",
       "<line stroke=\"rgb(0,0,0)\" stroke-width=\"2.0\" x1=\"455.7\" x2=\"455.7\" y1=\"187.0\" y2=\"160.0\"/>\n",
       "<polygon fill=\"rgb(0,0,0)\" points=\"317.128129 160.000000 291.918648 150.064102 295.918648 143.135898 \" stroke=\"rgb(0,0,0)\" stroke-width=\"2.000000\"/>\n",
       "<line stroke=\"rgb(0,0,0)\" stroke-width=\"2.0\" x1=\"178.6\" x2=\"201.9\" y1=\"80.0\" y2=\"93.5\"/>\n",
       "<line stroke=\"rgb(0,0,0)\" stroke-width=\"2.0\" x1=\"175.6\" x2=\"175.6\" y1=\"80.0\" y2=\"53.0\"/>\n",
       "<line stroke=\"rgb(0,0,0)\" stroke-width=\"2.0\" x1=\"181.6\" x2=\"181.6\" y1=\"80.0\" y2=\"53.0\"/>\n",
       "<line stroke=\"rgb(0,0,0)\" stroke-width=\"2.0\" x1=\"455.7\" x2=\"432.3\" y1=\"160.0\" y2=\"146.5\"/>\n",
       "<line stroke=\"rgb(0,0,0)\" stroke-width=\"2.0\" x1=\"454.2\" x2=\"477.6\" y1=\"157.4\" y2=\"143.9\"/>\n",
       "<line stroke=\"rgb(0,0,0)\" stroke-width=\"2.0\" x1=\"457.2\" x2=\"480.6\" y1=\"162.6\" y2=\"149.1\"/>\n",
       "<line stroke=\"rgb(0,0,0)\" stroke-width=\"1.0\" x1=\"351.0\" x2=\"352.6\" y1=\"134.6\" y2=\"134.6\"/>\n",
       "<line stroke=\"rgb(0,0,0)\" stroke-width=\"1.0\" x1=\"350.3\" x2=\"353.2\" y1=\"130.4\" y2=\"130.4\"/>\n",
       "<line stroke=\"rgb(0,0,0)\" stroke-width=\"1.0\" x1=\"349.7\" x2=\"353.8\" y1=\"126.1\" y2=\"126.1\"/>\n",
       "<line stroke=\"rgb(0,0,0)\" stroke-width=\"1.0\" x1=\"349.0\" x2=\"354.5\" y1=\"121.8\" y2=\"121.8\"/>\n",
       "<line stroke=\"rgb(0,0,0)\" stroke-width=\"1.0\" x1=\"348.4\" x2=\"355.1\" y1=\"117.5\" y2=\"117.5\"/>\n",
       "<line stroke=\"rgb(0,0,0)\" stroke-width=\"1.0\" x1=\"347.8\" x2=\"355.8\" y1=\"113.2\" y2=\"113.2\"/>\n",
       "<polygon fill=\"rgb(0,0,0)\" points=\"213.205081 140.000000 209.205081 113.200000 217.205081 113.200000 \" stroke=\"rgb(0,0,0)\" stroke-width=\"2.000000\"/>\n",
       "<line stroke=\"rgb(0,0,0)\" stroke-width=\"1.0\" x1=\"252.1\" x2=\"252.9\" y1=\"156.6\" y2=\"158.0\"/>\n",
       "<line stroke=\"rgb(0,0,0)\" stroke-width=\"1.0\" x1=\"255.5\" x2=\"256.9\" y1=\"153.9\" y2=\"156.4\"/>\n",
       "<line stroke=\"rgb(0,0,0)\" stroke-width=\"1.0\" x1=\"258.9\" x2=\"261.0\" y1=\"151.2\" y2=\"154.8\"/>\n",
       "<line stroke=\"rgb(0,0,0)\" stroke-width=\"1.0\" x1=\"262.3\" x2=\"265.0\" y1=\"148.5\" y2=\"153.2\"/>\n",
       "<line stroke=\"rgb(0,0,0)\" stroke-width=\"1.0\" x1=\"265.7\" x2=\"269.0\" y1=\"145.8\" y2=\"151.7\"/>\n",
       "<line stroke=\"rgb(0,0,0)\" stroke-width=\"1.0\" x1=\"269.1\" x2=\"273.1\" y1=\"143.1\" y2=\"150.1\"/>\n",
       "<line stroke=\"rgb(0,0,0)\" stroke-width=\"1.0\" x1=\"173.5\" x2=\"174.3\" y1=\"158.0\" y2=\"156.6\"/>\n",
       "<line stroke=\"rgb(0,0,0)\" stroke-width=\"1.0\" x1=\"169.5\" x2=\"170.9\" y1=\"156.4\" y2=\"153.9\"/>\n",
       "<line stroke=\"rgb(0,0,0)\" stroke-width=\"1.0\" x1=\"165.5\" x2=\"167.5\" y1=\"154.8\" y2=\"151.2\"/>\n",
       "<line stroke=\"rgb(0,0,0)\" stroke-width=\"1.0\" x1=\"161.4\" x2=\"164.1\" y1=\"153.2\" y2=\"148.5\"/>\n",
       "<line stroke=\"rgb(0,0,0)\" stroke-width=\"1.0\" x1=\"157.4\" x2=\"160.7\" y1=\"151.7\" y2=\"145.8\"/>\n",
       "<line stroke=\"rgb(0,0,0)\" stroke-width=\"1.0\" x1=\"153.4\" x2=\"157.4\" y1=\"150.1\" y2=\"143.1\"/>\n",
       "<line stroke=\"rgb(0,0,0)\" stroke-width=\"1.0\" x1=\"214.0\" x2=\"212.4\" y1=\"228.0\" y2=\"228.0\"/>\n",
       "<line stroke=\"rgb(0,0,0)\" stroke-width=\"1.0\" x1=\"214.6\" x2=\"211.8\" y1=\"234.4\" y2=\"234.4\"/>\n",
       "<line stroke=\"rgb(0,0,0)\" stroke-width=\"1.0\" x1=\"215.3\" x2=\"211.1\" y1=\"240.8\" y2=\"240.8\"/>\n",
       "<line stroke=\"rgb(0,0,0)\" stroke-width=\"1.0\" x1=\"215.9\" x2=\"210.5\" y1=\"247.2\" y2=\"247.2\"/>\n",
       "<line stroke=\"rgb(0,0,0)\" stroke-width=\"1.0\" x1=\"216.6\" x2=\"209.8\" y1=\"253.6\" y2=\"253.6\"/>\n",
       "<line stroke=\"rgb(0,0,0)\" stroke-width=\"1.0\" x1=\"217.2\" x2=\"209.2\" y1=\"260.0\" y2=\"260.0\"/>\n",
       "<polygon fill=\"rgb(0,0,0)\" points=\"178.564065 200.000000 157.354584 216.864102 153.354584 209.935898 \" stroke=\"rgb(0,0,0)\" stroke-width=\"2.000000\"/>\n",
       "<line stroke=\"rgb(0,0,0)\" stroke-width=\"1.0\" x1=\"143.1\" x2=\"144.7\" y1=\"254.6\" y2=\"254.6\"/>\n",
       "<line stroke=\"rgb(0,0,0)\" stroke-width=\"1.0\" x1=\"142.5\" x2=\"145.4\" y1=\"250.4\" y2=\"250.4\"/>\n",
       "<line stroke=\"rgb(0,0,0)\" stroke-width=\"1.0\" x1=\"141.8\" x2=\"146.0\" y1=\"246.1\" y2=\"246.1\"/>\n",
       "<line stroke=\"rgb(0,0,0)\" stroke-width=\"1.0\" x1=\"141.2\" x2=\"146.6\" y1=\"241.8\" y2=\"241.8\"/>\n",
       "<line stroke=\"rgb(0,0,0)\" stroke-width=\"1.0\" x1=\"140.6\" x2=\"147.3\" y1=\"237.5\" y2=\"237.5\"/>\n",
       "<line stroke=\"rgb(0,0,0)\" stroke-width=\"1.0\" x1=\"139.9\" x2=\"147.9\" y1=\"233.2\" y2=\"233.2\"/>\n",
       "<line stroke=\"rgb(0,0,0)\" stroke-width=\"2.0\" x1=\"52.8\" x2=\"76.1\" y1=\"203.9\" y2=\"217.4\"/>\n",
       "<line stroke=\"rgb(0,0,0)\" stroke-width=\"2.0\" x1=\"49.8\" x2=\"73.1\" y1=\"209.1\" y2=\"222.6\"/>\n",
       "<line stroke=\"rgb(0,0,0)\" stroke-width=\"2.0\" x1=\"213.2\" x2=\"236.6\" y1=\"260.0\" y2=\"273.5\"/>\n",
       "<line stroke=\"rgb(0,0,0)\" stroke-width=\"2.0\" x1=\"213.2\" x2=\"213.2\" y1=\"367.0\" y2=\"340.0\"/>\n",
       "<line stroke=\"rgb(0,0,0)\" stroke-width=\"2.0\" x1=\"74.6\" x2=\"98.0\" y1=\"220.0\" y2=\"206.5\"/>\n",
       "<line stroke=\"rgb(0,0,0)\" stroke-width=\"2.0\" x1=\"74.6\" x2=\"74.6\" y1=\"220.0\" y2=\"247.0\"/>\n",
       "<line stroke=\"rgb(0,0,0)\" stroke-width=\"1.0\" x1=\"185.9\" x2=\"185.1\" y1=\"323.3\" y2=\"324.7\"/>\n",
       "<line stroke=\"rgb(0,0,0)\" stroke-width=\"1.0\" x1=\"191.8\" x2=\"190.3\" y1=\"326.0\" y2=\"328.4\"/>\n",
       "<line stroke=\"rgb(0,0,0)\" stroke-width=\"1.0\" x1=\"197.6\" x2=\"195.5\" y1=\"328.6\" y2=\"332.2\"/>\n",
       "<line stroke=\"rgb(0,0,0)\" stroke-width=\"1.0\" x1=\"203.5\" x2=\"200.8\" y1=\"331.2\" y2=\"336.0\"/>\n",
       "<line stroke=\"rgb(0,0,0)\" stroke-width=\"1.0\" x1=\"209.3\" x2=\"206.0\" y1=\"333.9\" y2=\"339.7\"/>\n",
       "<line stroke=\"rgb(0,0,0)\" stroke-width=\"1.0\" x1=\"215.2\" x2=\"211.2\" y1=\"336.5\" y2=\"343.5\"/>\n",
       "<polygon fill=\"rgb(0,0,0)\" points=\"109.282032 280.000000 84.072551 270.064102 88.072551 263.135898 \" stroke=\"rgb(0,0,0)\" stroke-width=\"2.000000\"/>\n",
       "<polygon fill=\"rgb(0,0,0)\" points=\"143.923048 340.000000 147.923048 366.800000 139.923048 366.800000 \" stroke=\"rgb(0,0,0)\" stroke-width=\"2.000000\"/>\n",
       "<line stroke=\"rgb(0,0,0)\" stroke-width=\"1.0\" x1=\"105.0\" x2=\"104.2\" y1=\"323.4\" y2=\"322.0\"/>\n",
       "<line stroke=\"rgb(0,0,0)\" stroke-width=\"1.0\" x1=\"101.6\" x2=\"100.2\" y1=\"326.1\" y2=\"323.6\"/>\n",
       "<line stroke=\"rgb(0,0,0)\" stroke-width=\"1.0\" x1=\"98.3\" x2=\"96.2\" y1=\"328.8\" y2=\"325.2\"/>\n",
       "<line stroke=\"rgb(0,0,0)\" stroke-width=\"1.0\" x1=\"94.9\" x2=\"92.1\" y1=\"331.5\" y2=\"326.8\"/>\n",
       "<line stroke=\"rgb(0,0,0)\" stroke-width=\"1.0\" x1=\"91.5\" x2=\"88.1\" y1=\"334.2\" y2=\"328.3\"/>\n",
       "<line stroke=\"rgb(0,0,0)\" stroke-width=\"1.0\" x1=\"88.1\" x2=\"84.1\" y1=\"336.9\" y2=\"329.9\"/>\n",
       "<line stroke=\"rgb(0,0,0)\" stroke-width=\"2.0\" x1=\"63.4\" x2=\"51.3\" y1=\"266.5\" y2=\"273.5\"/>\n",
       "<line stroke=\"rgb(0,0,0)\" stroke-width=\"2.0\" x1=\"74.6\" x2=\"74.6\" y1=\"353.0\" y2=\"367.0\"/>\n",
       "<line stroke=\"rgb(0,0,0)\" stroke-width=\"2.0\" x1=\"132.7\" x2=\"120.5\" y1=\"386.5\" y2=\"393.5\"/>\n",
       "<line stroke=\"rgb(0,0,0)\" stroke-width=\"2.0\" x1=\"201.9\" x2=\"189.8\" y1=\"386.5\" y2=\"393.5\"/>\n",
       "<line stroke=\"rgb(0,0,0)\" stroke-width=\"2.0\" x1=\"224.5\" x2=\"236.6\" y1=\"93.5\" y2=\"86.5\"/>\n",
       "<line stroke=\"rgb(0,0,0)\" stroke-width=\"2.0\" x1=\"132.7\" x2=\"120.5\" y1=\"146.5\" y2=\"153.5\"/>\n",
       "<line stroke=\"rgb(0,0,0)\" stroke-width=\"2.0\" x1=\"247.8\" x2=\"247.8\" y1=\"293.0\" y2=\"307.0\"/>\n",
       "<line stroke=\"rgb(0,0,0)\" stroke-width=\"2.0\" x1=\"363.0\" x2=\"375.2\" y1=\"93.5\" y2=\"86.5\"/>\n",
       "<line stroke=\"rgb(0,0,0)\" stroke-width=\"2.0\" x1=\"293.7\" x2=\"305.9\" y1=\"266.5\" y2=\"273.5\"/>\n",
       "<line stroke=\"rgb(0,0,0)\" stroke-width=\"2.0\" x1=\"421.1\" x2=\"421.1\" y1=\"127.0\" y2=\"113.0\"/>\n",
       "<line stroke=\"rgb(0,0,0)\" stroke-width=\"2.0\" x1=\"421.1\" x2=\"421.1\" y1=\"233.0\" y2=\"247.0\"/>\n",
       "<line stroke=\"rgb(0,0,0)\" stroke-width=\"2.0\" x1=\"386.4\" x2=\"363.0\" y1=\"200.0\" y2=\"213.5\"/>\n",
       "<line stroke=\"rgb(0,0,0)\" stroke-width=\"2.0\" x1=\"340.5\" x2=\"317.1\" y1=\"213.5\" y2=\"200.0\"/>\n",
       "<line stroke=\"rgb(0,0,0)\" stroke-width=\"2.0\" x1=\"317.1\" x2=\"317.1\" y1=\"200.0\" y2=\"160.0\"/>\n",
       "<line stroke=\"rgb(0,0,0)\" stroke-width=\"2.0\" x1=\"317.1\" x2=\"351.8\" y1=\"160.0\" y2=\"140.0\"/>\n",
       "<line stroke=\"rgb(0,0,0)\" stroke-width=\"2.0\" x1=\"351.8\" x2=\"386.4\" y1=\"140.0\" y2=\"160.0\"/>\n",
       "<line stroke=\"rgb(0,0,0)\" stroke-width=\"2.0\" x1=\"386.4\" x2=\"386.4\" y1=\"160.0\" y2=\"200.0\"/>\n",
       "<line stroke=\"rgb(0,0,0)\" stroke-width=\"2.0\" x1=\"247.8\" x2=\"247.8\" y1=\"160.0\" y2=\"187.0\"/>\n",
       "<line stroke=\"rgb(0,0,0)\" stroke-width=\"2.0\" x1=\"236.6\" x2=\"213.2\" y1=\"206.5\" y2=\"220.0\"/>\n",
       "<line stroke=\"rgb(0,0,0)\" stroke-width=\"2.0\" x1=\"213.2\" x2=\"178.6\" y1=\"220.0\" y2=\"200.0\"/>\n",
       "<line stroke=\"rgb(0,0,0)\" stroke-width=\"2.0\" x1=\"178.6\" x2=\"178.6\" y1=\"200.0\" y2=\"160.0\"/>\n",
       "<line stroke=\"rgb(0,0,0)\" stroke-width=\"2.0\" x1=\"178.6\" x2=\"213.2\" y1=\"160.0\" y2=\"140.0\"/>\n",
       "<line stroke=\"rgb(0,0,0)\" stroke-width=\"2.0\" x1=\"213.2\" x2=\"247.8\" y1=\"140.0\" y2=\"160.0\"/>\n",
       "<line stroke=\"rgb(0,0,0)\" stroke-width=\"2.0\" x1=\"109.3\" x2=\"143.9\" y1=\"320.0\" y2=\"340.0\"/>\n",
       "<line stroke=\"rgb(0,0,0)\" stroke-width=\"2.0\" x1=\"143.9\" x2=\"178.6\" y1=\"340.0\" y2=\"320.0\"/>\n",
       "<line stroke=\"rgb(0,0,0)\" stroke-width=\"2.0\" x1=\"178.6\" x2=\"178.6\" y1=\"320.0\" y2=\"293.0\"/>\n",
       "<line stroke=\"rgb(0,0,0)\" stroke-width=\"2.0\" x1=\"167.3\" x2=\"143.9\" y1=\"273.5\" y2=\"260.0\"/>\n",
       "<line stroke=\"rgb(0,0,0)\" stroke-width=\"2.0\" x1=\"143.9\" x2=\"109.3\" y1=\"260.0\" y2=\"280.0\"/>\n",
       "<line stroke=\"rgb(0,0,0)\" stroke-width=\"2.0\" x1=\"109.3\" x2=\"109.3\" y1=\"280.0\" y2=\"320.0\"/>\n",
       "<text fill=\"rgb(12,12,255)\" font-size=\"16\" stroke=\"rgb(12,12,255)\" stroke-width=\"1\" x=\"415.051178\" y=\"148.000000\">N</text>\n",
       "<text fill=\"rgb(102,102,102)\" font-size=\"16\" stroke=\"rgb(102,102,102)\" stroke-width=\"1\" x=\"451.692194\" y=\"208.000000\">CH</text>\n",
       "<text fill=\"rgb(102,102,102)\" font-size=\"13\" stroke=\"rgb(102,102,102)\" stroke-width=\"1\" x=\"475.692194\" y=\"211.680000\">3</text>\n",
       "<text fill=\"rgb(255,12,12)\" font-size=\"16\" stroke=\"rgb(255,12,12)\" stroke-width=\"1\" x=\"345.769145\" y=\"228.000000\">O</text>\n",
       "<text fill=\"rgb(255,12,12)\" font-size=\"16\" stroke=\"rgb(255,12,12)\" stroke-width=\"1\" x=\"345.769145\" y=\"108.000000\">O</text>\n",
       "<text fill=\"rgb(255,12,12)\" font-size=\"16\" stroke=\"rgb(255,12,12)\" stroke-width=\"1\" x=\"276.487113\" y=\"148.000000\">O</text>\n",
       "<text fill=\"rgb(255,12,12)\" font-size=\"16\" stroke=\"rgb(255,12,12)\" stroke-width=\"1\" x=\"276.487113\" y=\"268.000000\">O</text>\n",
       "<text fill=\"rgb(255,12,12)\" font-size=\"16\" stroke=\"rgb(255,12,12)\" stroke-width=\"1\" x=\"484.333210\" y=\"148.000000\">O</text>\n",
       "<text fill=\"rgb(255,12,12)\" font-size=\"16\" stroke=\"rgb(255,12,12)\" stroke-width=\"1\" x=\"172.564065\" y=\"48.000000\">O</text>\n",
       "<text fill=\"rgb(255,12,12)\" font-size=\"16\" stroke=\"rgb(255,12,12)\" stroke-width=\"1\" x=\"415.051178\" y=\"228.000000\">O</text>\n",
       "<text fill=\"rgb(191,191,191)\" font-size=\"16\" stroke=\"rgb(191,191,191)\" stroke-width=\"1\" x=\"34.000000\" y=\"288.000000\">H</text>\n",
       "<text fill=\"rgb(191,191,191)\" font-size=\"16\" stroke=\"rgb(191,191,191)\" stroke-width=\"1\" x=\"68.641016\" y=\"388.000000\">H</text>\n",
       "<text fill=\"rgb(191,191,191)\" font-size=\"16\" stroke=\"rgb(191,191,191)\" stroke-width=\"1\" x=\"103.282032\" y=\"408.000000\">H</text>\n",
       "<text fill=\"rgb(191,191,191)\" font-size=\"16\" stroke=\"rgb(191,191,191)\" stroke-width=\"1\" x=\"172.564065\" y=\"408.000000\">H</text>\n",
       "<text fill=\"rgb(191,191,191)\" font-size=\"16\" stroke=\"rgb(191,191,191)\" stroke-width=\"1\" x=\"241.846097\" y=\"88.000000\">H</text>\n",
       "<text fill=\"rgb(191,191,191)\" font-size=\"16\" stroke=\"rgb(191,191,191)\" stroke-width=\"1\" x=\"103.282032\" y=\"168.000000\">H</text>\n",
       "<text fill=\"rgb(191,191,191)\" font-size=\"16\" stroke=\"rgb(191,191,191)\" stroke-width=\"1\" x=\"241.846097\" y=\"328.000000\">H</text>\n",
       "<text fill=\"rgb(191,191,191)\" font-size=\"16\" stroke=\"rgb(191,191,191)\" stroke-width=\"1\" x=\"380.410162\" y=\"88.000000\">H</text>\n",
       "<text fill=\"rgb(191,191,191)\" font-size=\"16\" stroke=\"rgb(191,191,191)\" stroke-width=\"1\" x=\"311.128129\" y=\"288.000000\">H</text>\n",
       "<text fill=\"rgb(191,191,191)\" font-size=\"16\" stroke=\"rgb(191,191,191)\" stroke-width=\"1\" x=\"415.051178\" y=\"108.000000\">H</text>\n",
       "<text fill=\"rgb(191,191,191)\" font-size=\"16\" stroke=\"rgb(191,191,191)\" stroke-width=\"1\" x=\"415.051178\" y=\"268.000000\">H</text>\n",
       "<text fill=\"rgb(102,102,102)\" font-size=\"16\" stroke=\"rgb(102,102,102)\" stroke-width=\"1\" x=\"105.282032\" y=\"208.000000\">CH</text>\n",
       "<text fill=\"rgb(102,102,102)\" font-size=\"13\" stroke=\"rgb(102,102,102)\" stroke-width=\"1\" x=\"129.282032\" y=\"211.680000\">3</text>\n",
       "<text fill=\"rgb(12,12,255)\" font-size=\"16\" stroke=\"rgb(12,12,255)\" stroke-width=\"1\" x=\"68.641016\" y=\"268.000000\">N</text>\n",
       "<text fill=\"rgb(255,12,12)\" font-size=\"16\" stroke=\"rgb(255,12,12)\" stroke-width=\"1\" x=\"68.641016\" y=\"348.000000\">O</text>\n",
       "<text fill=\"rgb(255,12,12)\" font-size=\"16\" stroke=\"rgb(255,12,12)\" stroke-width=\"1\" x=\"137.923048\" y=\"388.000000\">O</text>\n",
       "<text fill=\"rgb(255,12,12)\" font-size=\"16\" stroke=\"rgb(255,12,12)\" stroke-width=\"1\" x=\"172.564065\" y=\"288.000000\">O</text>\n",
       "<text fill=\"rgb(255,12,12)\" font-size=\"16\" stroke=\"rgb(255,12,12)\" stroke-width=\"1\" x=\"207.205081\" y=\"388.000000\">O</text>\n",
       "<text fill=\"rgb(255,12,12)\" font-size=\"16\" stroke=\"rgb(255,12,12)\" stroke-width=\"1\" x=\"34.000000\" y=\"208.000000\">O</text>\n",
       "<text fill=\"rgb(102,102,102)\" font-size=\"16\" stroke=\"rgb(102,102,102)\" stroke-width=\"1\" x=\"117.923048\" y=\"108.000000\">H</text>\n",
       "<text fill=\"rgb(102,102,102)\" font-size=\"13\" stroke=\"rgb(102,102,102)\" stroke-width=\"1\" x=\"129.923048\" y=\"111.680000\">3</text>\n",
       "<text fill=\"rgb(102,102,102)\" font-size=\"16\" stroke=\"rgb(102,102,102)\" stroke-width=\"1\" x=\"136.423048\" y=\"108.000000\">C</text>\n",
       "<text fill=\"rgb(12,12,255)\" font-size=\"16\" stroke=\"rgb(12,12,255)\" stroke-width=\"1\" x=\"207.205081\" y=\"108.000000\">N</text>\n",
       "<text fill=\"rgb(255,12,12)\" font-size=\"16\" stroke=\"rgb(255,12,12)\" stroke-width=\"1\" x=\"137.923048\" y=\"148.000000\">O</text>\n",
       "<text fill=\"rgb(255,12,12)\" font-size=\"16\" stroke=\"rgb(255,12,12)\" stroke-width=\"1\" x=\"137.923048\" y=\"228.000000\">O</text>\n",
       "<text fill=\"rgb(255,12,12)\" font-size=\"16\" stroke=\"rgb(255,12,12)\" stroke-width=\"1\" x=\"241.846097\" y=\"208.000000\">O</text>\n",
       "<text fill=\"rgb(255,12,12)\" font-size=\"16\" stroke=\"rgb(255,12,12)\" stroke-width=\"1\" x=\"241.846097\" y=\"288.000000\">O</text>\n",
       "</svg>\n",
       "</g>\n",
       "</svg>"
      ],
      "text/plain": [
       "<IPython.core.display.SVG object>"
      ]
     },
     "execution_count": 8,
     "metadata": {},
     "output_type": "execute_result"
    }
   ],
   "source": [
    "ligand = next(oddt.toolkit.readfile('pdb', 'ligand.pdb'))\n",
    "ligand.OBMol.AddPolarHydrogens()\n",
    "ligand.OBMol.AutomaticPartialCharge()\n",
    "print(*(r.name for r in ligand.residues))\n",
    "ipd.SVG(ligand.write('svg', opt={'d': None, 'P': 500}))"
   ]
  },
  {
   "cell_type": "markdown",
   "metadata": {},
   "source": [
    "Будем проводить докинг исключительно NAG-лиганда, т. е. одной из составляющих исходного, меняя метильную группу на предложенные радикалы. Как он выглядит?"
   ]
  },
  {
   "cell_type": "code",
   "execution_count": 9,
   "metadata": {},
   "outputs": [
    {
     "data": {
      "image/png": "[encoded data removed]",
      "text/plain": [
       "<rdkit.Chem.rdchem.Mol at 0x7f81095d2260>"
      ]
     },
     "execution_count": 9,
     "metadata": {},
     "output_type": "execute_result"
    }
   ],
   "source": [
    "Chem.MolFromSmiles('CC(=O)N[C@H]1[C@H](O)O[C@H](CO)[C@@H](O)[C@@H]1O')"
   ]
  },
  {
   "cell_type": "markdown",
   "metadata": {},
   "source": [
    "Посмотрим на NAG с заместителями:"
   ]
  },
  {
   "cell_type": "code",
   "execution_count": 10,
   "metadata": {
    "scrolled": false
   },
   "outputs": [
    {
     "data": {
      "image/png": "[encoded data removed]",
      "text/plain": [
       "<PIL.PngImagePlugin.PngImageFile image mode=RGB size=640x2400 at 0x7F8108306BD0>"
      ]
     },
     "execution_count": 10,
     "metadata": {},
     "output_type": "execute_result"
    }
   ],
   "source": [
    "smiles = [\n",
    "    'OC(=O)N[C@H]1[C@H](O)O[C@H](CO)[C@@H](O)[C@@H]1O',  # OH\n",
    "    '[NH3+]C(=O)N[C@H]1[C@H](O)O[C@H](CO)[C@@H](O)[C@@H]1O',  # NH3+\n",
    "    'C(=O)N[C@H]1[C@H](O)O[C@H](CO)[C@@H](O)[C@@H]1O',  # H\n",
    "    'C2(C=CC=CC=2)C(=O)N[C@H]1[C@H](O)O[C@H](CO)[C@@H](O)[C@@H]1O',  # Ph - phenyl group\n",
    "    '[O-]C(=O)C(=O)N[C@H]1[C@H](O)O[C@H](CO)[C@@H](O)[C@@H]1O'  # COO-\n",
    "]\n",
    "mols2d, mols3d = [], []\n",
    "\n",
    "for s in smiles:\n",
    "    m2d = Chem.MolFromSmiles(s)\n",
    "    m2d.Compute2DCoords()\n",
    "    mols2d.append(m2d)\n",
    "    m3d = Chem.AddHs(m2d)\n",
    "    Chem.AllChem.EmbedMolecule(m3d)\n",
    "    Chem.AllChem.MMFFOptimizeMolecule(m3d, maxIters=500, nonBondedThresh=100)\n",
    "    mols3d.append(m3d)\n",
    "    \n",
    "    \n",
    "Chem.Draw.MolsToGridImage(mols2d, molsPerRow=1, subImgSize=(640, 480), legends=smiles)"
   ]
  },
  {
   "cell_type": "markdown",
   "metadata": {},
   "source": [
    "### Докинг"
   ]
  },
  {
   "cell_type": "markdown",
   "metadata": {},
   "source": [
    "Создадим докинг-объект:"
   ]
  },
  {
   "cell_type": "code",
   "execution_count": 11,
   "metadata": {},
   "outputs": [],
   "source": [
    "dock_obj = oddt.docking.AutodockVina.autodock_vina(\n",
    "    protein=protein, size=(20, 20, 20), center=geom_center,\n",
    "    executable='/home/leo/Software/vina/vina', autocleanup=True, num_modes=8,\n",
    "    n_cpu=8\n",
    ")"
   ]
  },
  {
   "cell_type": "code",
   "execution_count": 12,
   "metadata": {},
   "outputs": [
    {
     "name": "stdout",
     "output_type": "stream",
     "text": [
      "/tmp/autodock_vina_2tclqdca\n"
     ]
    }
   ],
   "source": [
    "print(dock_obj.tmp_dir)"
   ]
  },
  {
   "cell_type": "code",
   "execution_count": 13,
   "metadata": {},
   "outputs": [
    {
     "name": "stdout",
     "output_type": "stream",
     "text": [
      "--center_x 46.8601162045501 --center_y 32.48079069270644 --center_z 31.785813797351924 --size_x 20 --size_y 20 --size_z 20 --exhaustiveness 8 --num_modes 8 --energy_range 3\n"
     ]
    }
   ],
   "source": [
    "print(' '.join(dock_obj.params))"
   ]
  },
  {
   "cell_type": "markdown",
   "metadata": {},
   "source": [
    "Здесь перечислены параметры докинга:\n",
    "\n",
    "- **center(x, y, z)** - центр окна докинга, в данном случае совпадает с геометрическим центром исходного лиганда\n",
    "- **size(x, y, z)** - размеры окна докинга, куб с соответствующими сторонами\n",
    "- **exhaustiveness** - параметр времени, затраченного на поиск глобального минимума целевой функции\n",
    "- **num_modes** - ограничение на количество генерируемых конформаций\n",
    "- **energy_range** - максимальная энергетическая разница между лучшей и худшей из конформаций"
   ]
  },
  {
   "cell_type": "markdown",
   "metadata": {},
   "source": [
    "Переведём молекулы из `rdkit`-формата в формат `oddt`:"
   ]
  },
  {
   "cell_type": "code",
   "execution_count": 14,
   "metadata": {},
   "outputs": [],
   "source": [
    "mols = [oddt.toolkit.readstring('sdf', Chem.MolToMolBlock(m)) for m in mols3d]"
   ]
  },
  {
   "cell_type": "markdown",
   "metadata": {},
   "source": [
    "Произведём докинг:"
   ]
  },
  {
   "cell_type": "code",
   "execution_count": 15,
   "metadata": {},
   "outputs": [],
   "source": [
    "res = dock_obj.dock(ligands=mols, protein=protein)"
   ]
  },
  {
   "cell_type": "markdown",
   "metadata": {},
   "source": [
    "Представим результаты в виде таблицы от лучшего заместителя к худшему (чем ниже значение Affinity, тем лучше контакт между белком и лигандом):"
   ]
  },
  {
   "cell_type": "code",
   "execution_count": 16,
   "metadata": {},
   "outputs": [
    {
     "data": {
      "text/html": [
       "<div>\n",
       "<style scoped>\n",
       "    .dataframe tbody tr th:only-of-type {\n",
       "        vertical-align: middle;\n",
       "    }\n",
       "\n",
       "    .dataframe tbody tr th {\n",
       "        vertical-align: top;\n",
       "    }\n",
       "\n",
       "    .dataframe thead th {\n",
       "        text-align: right;\n",
       "    }\n",
       "</style>\n",
       "<table border=\"1\" class=\"dataframe\">\n",
       "  <thead>\n",
       "    <tr style=\"text-align: right;\">\n",
       "      <th></th>\n",
       "      <th>Radical</th>\n",
       "      <th>Formula</th>\n",
       "      <th>Vina Affinity</th>\n",
       "      <th>RMSD UB</th>\n",
       "      <th>H-bonds (total)</th>\n",
       "      <th>H-bonds (strict)</th>\n",
       "      <th>Pi-stackings (total)</th>\n",
       "      <th>Hydrophobic contacts(total)</th>\n",
       "    </tr>\n",
       "  </thead>\n",
       "  <tbody>\n",
       "    <tr>\n",
       "      <th>25</th>\n",
       "      <td>Phenyl</td>\n",
       "      <td>C13H17NO6</td>\n",
       "      <td>-6.3</td>\n",
       "      <td>2.970</td>\n",
       "      <td>10</td>\n",
       "      <td>9</td>\n",
       "      <td>0</td>\n",
       "      <td>9</td>\n",
       "    </tr>\n",
       "    <tr>\n",
       "      <th>32</th>\n",
       "      <td>COO-</td>\n",
       "      <td>C8H12NO8-</td>\n",
       "      <td>-6.3</td>\n",
       "      <td>0.000</td>\n",
       "      <td>9</td>\n",
       "      <td>8</td>\n",
       "      <td>0</td>\n",
       "      <td>0</td>\n",
       "    </tr>\n",
       "    <tr>\n",
       "      <th>24</th>\n",
       "      <td>Phenyl</td>\n",
       "      <td>C13H17NO6</td>\n",
       "      <td>-6.3</td>\n",
       "      <td>0.000</td>\n",
       "      <td>9</td>\n",
       "      <td>6</td>\n",
       "      <td>0</td>\n",
       "      <td>10</td>\n",
       "    </tr>\n",
       "    <tr>\n",
       "      <th>26</th>\n",
       "      <td>Phenyl</td>\n",
       "      <td>C13H17NO6</td>\n",
       "      <td>-6.2</td>\n",
       "      <td>5.049</td>\n",
       "      <td>5</td>\n",
       "      <td>5</td>\n",
       "      <td>3</td>\n",
       "      <td>11</td>\n",
       "    </tr>\n",
       "    <tr>\n",
       "      <th>27</th>\n",
       "      <td>Phenyl</td>\n",
       "      <td>C13H17NO6</td>\n",
       "      <td>-6.1</td>\n",
       "      <td>2.683</td>\n",
       "      <td>5</td>\n",
       "      <td>5</td>\n",
       "      <td>0</td>\n",
       "      <td>10</td>\n",
       "    </tr>\n",
       "    <tr>\n",
       "      <th>28</th>\n",
       "      <td>Phenyl</td>\n",
       "      <td>C13H17NO6</td>\n",
       "      <td>-6.0</td>\n",
       "      <td>7.948</td>\n",
       "      <td>5</td>\n",
       "      <td>4</td>\n",
       "      <td>0</td>\n",
       "      <td>2</td>\n",
       "    </tr>\n",
       "    <tr>\n",
       "      <th>29</th>\n",
       "      <td>Phenyl</td>\n",
       "      <td>C13H17NO6</td>\n",
       "      <td>-6.0</td>\n",
       "      <td>7.161</td>\n",
       "      <td>4</td>\n",
       "      <td>4</td>\n",
       "      <td>0</td>\n",
       "      <td>4</td>\n",
       "    </tr>\n",
       "    <tr>\n",
       "      <th>33</th>\n",
       "      <td>COO-</td>\n",
       "      <td>C8H12NO8-</td>\n",
       "      <td>-6.0</td>\n",
       "      <td>5.563</td>\n",
       "      <td>9</td>\n",
       "      <td>8</td>\n",
       "      <td>0</td>\n",
       "      <td>0</td>\n",
       "    </tr>\n",
       "    <tr>\n",
       "      <th>30</th>\n",
       "      <td>Phenyl</td>\n",
       "      <td>C13H17NO6</td>\n",
       "      <td>-5.9</td>\n",
       "      <td>6.211</td>\n",
       "      <td>2</td>\n",
       "      <td>2</td>\n",
       "      <td>4</td>\n",
       "      <td>9</td>\n",
       "    </tr>\n",
       "    <tr>\n",
       "      <th>31</th>\n",
       "      <td>Phenyl</td>\n",
       "      <td>C13H17NO6</td>\n",
       "      <td>-5.9</td>\n",
       "      <td>3.209</td>\n",
       "      <td>5</td>\n",
       "      <td>3</td>\n",
       "      <td>1</td>\n",
       "      <td>16</td>\n",
       "    </tr>\n",
       "    <tr>\n",
       "      <th>0</th>\n",
       "      <td>OH</td>\n",
       "      <td>C7H13NO7</td>\n",
       "      <td>-5.8</td>\n",
       "      <td>0.000</td>\n",
       "      <td>9</td>\n",
       "      <td>9</td>\n",
       "      <td>0</td>\n",
       "      <td>0</td>\n",
       "    </tr>\n",
       "    <tr>\n",
       "      <th>8</th>\n",
       "      <td>NH3+</td>\n",
       "      <td>C7H15N2O6+</td>\n",
       "      <td>-5.7</td>\n",
       "      <td>0.000</td>\n",
       "      <td>8</td>\n",
       "      <td>6</td>\n",
       "      <td>0</td>\n",
       "      <td>0</td>\n",
       "    </tr>\n",
       "    <tr>\n",
       "      <th>34</th>\n",
       "      <td>COO-</td>\n",
       "      <td>C8H12NO8-</td>\n",
       "      <td>-5.7</td>\n",
       "      <td>4.012</td>\n",
       "      <td>8</td>\n",
       "      <td>6</td>\n",
       "      <td>0</td>\n",
       "      <td>0</td>\n",
       "    </tr>\n",
       "    <tr>\n",
       "      <th>35</th>\n",
       "      <td>COO-</td>\n",
       "      <td>C8H12NO8-</td>\n",
       "      <td>-5.7</td>\n",
       "      <td>5.849</td>\n",
       "      <td>5</td>\n",
       "      <td>4</td>\n",
       "      <td>0</td>\n",
       "      <td>0</td>\n",
       "    </tr>\n",
       "    <tr>\n",
       "      <th>36</th>\n",
       "      <td>COO-</td>\n",
       "      <td>C8H12NO8-</td>\n",
       "      <td>-5.7</td>\n",
       "      <td>2.693</td>\n",
       "      <td>11</td>\n",
       "      <td>11</td>\n",
       "      <td>0</td>\n",
       "      <td>0</td>\n",
       "    </tr>\n",
       "    <tr>\n",
       "      <th>37</th>\n",
       "      <td>COO-</td>\n",
       "      <td>C8H12NO8-</td>\n",
       "      <td>-5.7</td>\n",
       "      <td>4.239</td>\n",
       "      <td>7</td>\n",
       "      <td>5</td>\n",
       "      <td>0</td>\n",
       "      <td>0</td>\n",
       "    </tr>\n",
       "    <tr>\n",
       "      <th>38</th>\n",
       "      <td>COO-</td>\n",
       "      <td>C8H12NO8-</td>\n",
       "      <td>-5.7</td>\n",
       "      <td>5.566</td>\n",
       "      <td>7</td>\n",
       "      <td>7</td>\n",
       "      <td>0</td>\n",
       "      <td>0</td>\n",
       "    </tr>\n",
       "    <tr>\n",
       "      <th>9</th>\n",
       "      <td>NH3+</td>\n",
       "      <td>C7H15N2O6+</td>\n",
       "      <td>-5.7</td>\n",
       "      <td>4.956</td>\n",
       "      <td>9</td>\n",
       "      <td>9</td>\n",
       "      <td>0</td>\n",
       "      <td>0</td>\n",
       "    </tr>\n",
       "    <tr>\n",
       "      <th>39</th>\n",
       "      <td>COO-</td>\n",
       "      <td>C8H12NO8-</td>\n",
       "      <td>-5.6</td>\n",
       "      <td>3.279</td>\n",
       "      <td>7</td>\n",
       "      <td>6</td>\n",
       "      <td>0</td>\n",
       "      <td>0</td>\n",
       "    </tr>\n",
       "    <tr>\n",
       "      <th>16</th>\n",
       "      <td>H</td>\n",
       "      <td>C7H13NO6</td>\n",
       "      <td>-5.6</td>\n",
       "      <td>0.000</td>\n",
       "      <td>7</td>\n",
       "      <td>4</td>\n",
       "      <td>0</td>\n",
       "      <td>0</td>\n",
       "    </tr>\n",
       "    <tr>\n",
       "      <th>10</th>\n",
       "      <td>NH3+</td>\n",
       "      <td>C7H15N2O6+</td>\n",
       "      <td>-5.5</td>\n",
       "      <td>5.209</td>\n",
       "      <td>12</td>\n",
       "      <td>7</td>\n",
       "      <td>0</td>\n",
       "      <td>0</td>\n",
       "    </tr>\n",
       "    <tr>\n",
       "      <th>1</th>\n",
       "      <td>OH</td>\n",
       "      <td>C7H13NO7</td>\n",
       "      <td>-5.4</td>\n",
       "      <td>4.842</td>\n",
       "      <td>10</td>\n",
       "      <td>9</td>\n",
       "      <td>0</td>\n",
       "      <td>0</td>\n",
       "    </tr>\n",
       "    <tr>\n",
       "      <th>12</th>\n",
       "      <td>NH3+</td>\n",
       "      <td>C7H15N2O6+</td>\n",
       "      <td>-5.4</td>\n",
       "      <td>5.089</td>\n",
       "      <td>7</td>\n",
       "      <td>6</td>\n",
       "      <td>0</td>\n",
       "      <td>0</td>\n",
       "    </tr>\n",
       "    <tr>\n",
       "      <th>11</th>\n",
       "      <td>NH3+</td>\n",
       "      <td>C7H15N2O6+</td>\n",
       "      <td>-5.4</td>\n",
       "      <td>5.336</td>\n",
       "      <td>12</td>\n",
       "      <td>11</td>\n",
       "      <td>0</td>\n",
       "      <td>0</td>\n",
       "    </tr>\n",
       "    <tr>\n",
       "      <th>13</th>\n",
       "      <td>NH3+</td>\n",
       "      <td>C7H15N2O6+</td>\n",
       "      <td>-5.3</td>\n",
       "      <td>4.748</td>\n",
       "      <td>4</td>\n",
       "      <td>4</td>\n",
       "      <td>0</td>\n",
       "      <td>0</td>\n",
       "    </tr>\n",
       "    <tr>\n",
       "      <th>17</th>\n",
       "      <td>H</td>\n",
       "      <td>C7H13NO6</td>\n",
       "      <td>-5.3</td>\n",
       "      <td>4.589</td>\n",
       "      <td>9</td>\n",
       "      <td>9</td>\n",
       "      <td>0</td>\n",
       "      <td>0</td>\n",
       "    </tr>\n",
       "    <tr>\n",
       "      <th>14</th>\n",
       "      <td>NH3+</td>\n",
       "      <td>C7H15N2O6+</td>\n",
       "      <td>-5.3</td>\n",
       "      <td>2.959</td>\n",
       "      <td>9</td>\n",
       "      <td>8</td>\n",
       "      <td>0</td>\n",
       "      <td>0</td>\n",
       "    </tr>\n",
       "    <tr>\n",
       "      <th>2</th>\n",
       "      <td>OH</td>\n",
       "      <td>C7H13NO7</td>\n",
       "      <td>-5.2</td>\n",
       "      <td>3.743</td>\n",
       "      <td>5</td>\n",
       "      <td>4</td>\n",
       "      <td>0</td>\n",
       "      <td>0</td>\n",
       "    </tr>\n",
       "    <tr>\n",
       "      <th>3</th>\n",
       "      <td>OH</td>\n",
       "      <td>C7H13NO7</td>\n",
       "      <td>-5.2</td>\n",
       "      <td>4.625</td>\n",
       "      <td>11</td>\n",
       "      <td>8</td>\n",
       "      <td>0</td>\n",
       "      <td>0</td>\n",
       "    </tr>\n",
       "    <tr>\n",
       "      <th>4</th>\n",
       "      <td>OH</td>\n",
       "      <td>C7H13NO7</td>\n",
       "      <td>-5.2</td>\n",
       "      <td>6.262</td>\n",
       "      <td>9</td>\n",
       "      <td>9</td>\n",
       "      <td>0</td>\n",
       "      <td>0</td>\n",
       "    </tr>\n",
       "    <tr>\n",
       "      <th>5</th>\n",
       "      <td>OH</td>\n",
       "      <td>C7H13NO7</td>\n",
       "      <td>-5.2</td>\n",
       "      <td>4.953</td>\n",
       "      <td>10</td>\n",
       "      <td>8</td>\n",
       "      <td>0</td>\n",
       "      <td>0</td>\n",
       "    </tr>\n",
       "    <tr>\n",
       "      <th>15</th>\n",
       "      <td>NH3+</td>\n",
       "      <td>C7H15N2O6+</td>\n",
       "      <td>-5.2</td>\n",
       "      <td>4.080</td>\n",
       "      <td>7</td>\n",
       "      <td>6</td>\n",
       "      <td>0</td>\n",
       "      <td>0</td>\n",
       "    </tr>\n",
       "    <tr>\n",
       "      <th>6</th>\n",
       "      <td>OH</td>\n",
       "      <td>C7H13NO7</td>\n",
       "      <td>-5.1</td>\n",
       "      <td>5.256</td>\n",
       "      <td>8</td>\n",
       "      <td>8</td>\n",
       "      <td>0</td>\n",
       "      <td>0</td>\n",
       "    </tr>\n",
       "    <tr>\n",
       "      <th>7</th>\n",
       "      <td>OH</td>\n",
       "      <td>C7H13NO7</td>\n",
       "      <td>-5.1</td>\n",
       "      <td>3.152</td>\n",
       "      <td>6</td>\n",
       "      <td>6</td>\n",
       "      <td>0</td>\n",
       "      <td>0</td>\n",
       "    </tr>\n",
       "    <tr>\n",
       "      <th>19</th>\n",
       "      <td>H</td>\n",
       "      <td>C7H13NO6</td>\n",
       "      <td>-5.0</td>\n",
       "      <td>3.915</td>\n",
       "      <td>7</td>\n",
       "      <td>5</td>\n",
       "      <td>0</td>\n",
       "      <td>0</td>\n",
       "    </tr>\n",
       "    <tr>\n",
       "      <th>18</th>\n",
       "      <td>H</td>\n",
       "      <td>C7H13NO6</td>\n",
       "      <td>-5.0</td>\n",
       "      <td>3.262</td>\n",
       "      <td>6</td>\n",
       "      <td>2</td>\n",
       "      <td>0</td>\n",
       "      <td>0</td>\n",
       "    </tr>\n",
       "    <tr>\n",
       "      <th>21</th>\n",
       "      <td>H</td>\n",
       "      <td>C7H13NO6</td>\n",
       "      <td>-4.9</td>\n",
       "      <td>5.394</td>\n",
       "      <td>10</td>\n",
       "      <td>10</td>\n",
       "      <td>0</td>\n",
       "      <td>0</td>\n",
       "    </tr>\n",
       "    <tr>\n",
       "      <th>20</th>\n",
       "      <td>H</td>\n",
       "      <td>C7H13NO6</td>\n",
       "      <td>-4.9</td>\n",
       "      <td>4.271</td>\n",
       "      <td>6</td>\n",
       "      <td>5</td>\n",
       "      <td>0</td>\n",
       "      <td>0</td>\n",
       "    </tr>\n",
       "    <tr>\n",
       "      <th>22</th>\n",
       "      <td>H</td>\n",
       "      <td>C7H13NO6</td>\n",
       "      <td>-4.8</td>\n",
       "      <td>4.966</td>\n",
       "      <td>12</td>\n",
       "      <td>11</td>\n",
       "      <td>0</td>\n",
       "      <td>0</td>\n",
       "    </tr>\n",
       "    <tr>\n",
       "      <th>23</th>\n",
       "      <td>H</td>\n",
       "      <td>C7H13NO6</td>\n",
       "      <td>-4.7</td>\n",
       "      <td>6.488</td>\n",
       "      <td>12</td>\n",
       "      <td>9</td>\n",
       "      <td>0</td>\n",
       "      <td>0</td>\n",
       "    </tr>\n",
       "  </tbody>\n",
       "</table>\n",
       "</div>"
      ],
      "text/plain": [
       "   Radical     Formula Vina Affinity RMSD UB  H-bonds (total)  \\\n",
       "25  Phenyl   C13H17NO6          -6.3   2.970               10   \n",
       "32    COO-   C8H12NO8-          -6.3   0.000                9   \n",
       "24  Phenyl   C13H17NO6          -6.3   0.000                9   \n",
       "26  Phenyl   C13H17NO6          -6.2   5.049                5   \n",
       "27  Phenyl   C13H17NO6          -6.1   2.683                5   \n",
       "28  Phenyl   C13H17NO6          -6.0   7.948                5   \n",
       "29  Phenyl   C13H17NO6          -6.0   7.161                4   \n",
       "33    COO-   C8H12NO8-          -6.0   5.563                9   \n",
       "30  Phenyl   C13H17NO6          -5.9   6.211                2   \n",
       "31  Phenyl   C13H17NO6          -5.9   3.209                5   \n",
       "0       OH    C7H13NO7          -5.8   0.000                9   \n",
       "8     NH3+  C7H15N2O6+          -5.7   0.000                8   \n",
       "34    COO-   C8H12NO8-          -5.7   4.012                8   \n",
       "35    COO-   C8H12NO8-          -5.7   5.849                5   \n",
       "36    COO-   C8H12NO8-          -5.7   2.693               11   \n",
       "37    COO-   C8H12NO8-          -5.7   4.239                7   \n",
       "38    COO-   C8H12NO8-          -5.7   5.566                7   \n",
       "9     NH3+  C7H15N2O6+          -5.7   4.956                9   \n",
       "39    COO-   C8H12NO8-          -5.6   3.279                7   \n",
       "16       H    C7H13NO6          -5.6   0.000                7   \n",
       "10    NH3+  C7H15N2O6+          -5.5   5.209               12   \n",
       "1       OH    C7H13NO7          -5.4   4.842               10   \n",
       "12    NH3+  C7H15N2O6+          -5.4   5.089                7   \n",
       "11    NH3+  C7H15N2O6+          -5.4   5.336               12   \n",
       "13    NH3+  C7H15N2O6+          -5.3   4.748                4   \n",
       "17       H    C7H13NO6          -5.3   4.589                9   \n",
       "14    NH3+  C7H15N2O6+          -5.3   2.959                9   \n",
       "2       OH    C7H13NO7          -5.2   3.743                5   \n",
       "3       OH    C7H13NO7          -5.2   4.625               11   \n",
       "4       OH    C7H13NO7          -5.2   6.262                9   \n",
       "5       OH    C7H13NO7          -5.2   4.953               10   \n",
       "15    NH3+  C7H15N2O6+          -5.2   4.080                7   \n",
       "6       OH    C7H13NO7          -5.1   5.256                8   \n",
       "7       OH    C7H13NO7          -5.1   3.152                6   \n",
       "19       H    C7H13NO6          -5.0   3.915                7   \n",
       "18       H    C7H13NO6          -5.0   3.262                6   \n",
       "21       H    C7H13NO6          -4.9   5.394               10   \n",
       "20       H    C7H13NO6          -4.9   4.271                6   \n",
       "22       H    C7H13NO6          -4.8   4.966               12   \n",
       "23       H    C7H13NO6          -4.7   6.488               12   \n",
       "\n",
       "    H-bonds (strict)  Pi-stackings (total)  Hydrophobic contacts(total)  \n",
       "25                 9                     0                            9  \n",
       "32                 8                     0                            0  \n",
       "24                 6                     0                           10  \n",
       "26                 5                     3                           11  \n",
       "27                 5                     0                           10  \n",
       "28                 4                     0                            2  \n",
       "29                 4                     0                            4  \n",
       "33                 8                     0                            0  \n",
       "30                 2                     4                            9  \n",
       "31                 3                     1                           16  \n",
       "0                  9                     0                            0  \n",
       "8                  6                     0                            0  \n",
       "34                 6                     0                            0  \n",
       "35                 4                     0                            0  \n",
       "36                11                     0                            0  \n",
       "37                 5                     0                            0  \n",
       "38                 7                     0                            0  \n",
       "9                  9                     0                            0  \n",
       "39                 6                     0                            0  \n",
       "16                 4                     0                            0  \n",
       "10                 7                     0                            0  \n",
       "1                  9                     0                            0  \n",
       "12                 6                     0                            0  \n",
       "11                11                     0                            0  \n",
       "13                 4                     0                            0  \n",
       "17                 9                     0                            0  \n",
       "14                 8                     0                            0  \n",
       "2                  4                     0                            0  \n",
       "3                  8                     0                            0  \n",
       "4                  9                     0                            0  \n",
       "5                  8                     0                            0  \n",
       "15                 6                     0                            0  \n",
       "6                  8                     0                            0  \n",
       "7                  6                     0                            0  \n",
       "19                 5                     0                            0  \n",
       "18                 2                     0                            0  \n",
       "21                10                     0                            0  \n",
       "20                 5                     0                            0  \n",
       "22                11                     0                            0  \n",
       "23                 9                     0                            0  "
      ]
     },
     "execution_count": 16,
     "metadata": {},
     "output_type": "execute_result"
    }
   ],
   "source": [
    "hbs, stack, phob = [], [], []\n",
    "\n",
    "for r in res:\n",
    "    hbs.append(oddt.interactions.hbonds(protein, r))\n",
    "    stack.append(oddt.interactions.pi_stacking(protein, r))\n",
    "    phob.append(oddt.interactions.hydrophobic_contacts(protein, r))\n",
    "\n",
    "table = pd.DataFrame(\n",
    "    data = {\n",
    "        'Radical': np.repeat(np.array(['OH', 'NH3+', 'H', 'Phenyl', 'COO-']), 8),\n",
    "        'Formula': [r.formula for r in res],\n",
    "        'Vina Affinity': [r.data['vina_affinity'] for r in res],\n",
    "        'RMSD UB': [r.data['vina_rmsd_ub'] for r in res],\n",
    "        'H-bonds (total)': [len(h[0]) for h in hbs],\n",
    "        'H-bonds (strict)': [sum(h[2]) for h in hbs],\n",
    "        'Pi-stackings (total)': [len(st[0]) for st in stack],\n",
    "        'Hydrophobic contacts(total)': [len(p[0]) for p in phob]\n",
    "    }\n",
    ")\n",
    "table.sort_values('Vina Affinity', ascending=False)"
   ]
  },
  {
   "cell_type": "markdown",
   "metadata": {},
   "source": [
    "Запишем файлы для визуализации:"
   ]
  },
  {
   "cell_type": "code",
   "execution_count": 17,
   "metadata": {},
   "outputs": [],
   "source": [
    "for i, r in enumerate(res):\n",
    "    r.write(filename=f'{i}.pdb', format='pdb', overwrite=True)"
   ]
  },
  {
   "cell_type": "markdown",
   "metadata": {},
   "source": [
    "### Визуализация"
   ]
  },
  {
   "cell_type": "markdown",
   "metadata": {},
   "source": [
    "Напишем функцию для визуализации лиганда с белком и отобразим пару лучших результатов:"
   ]
  },
  {
   "cell_type": "code",
   "execution_count": 18,
   "metadata": {
    "scrolled": false
   },
   "outputs": [],
   "source": [
    "def binding_viewer(ligand):\n",
    "    v = nv.show_structure_file('protein.pdb')\n",
    "    v.add_component(ligand)\n",
    "    v._remote_call('setSize', target='Widget', args=['500px', '500px'])\n",
    "    v.representations = [\n",
    "            {\"type\": \"cartoon\", \"params\": {\"sele\": \"protein\", \"color\": \"residueindex\"}},\n",
    "            {\"type\": \"ball+stick\", \"params\": {\"sele\": \"ligand\"}}\n",
    "        ]\n",
    "    return v\n",
    "\n",
    "oh = binding_viewer('0.pdb')\n",
    "nh3 = binding_viewer('8.pdb')\n",
    "h = binding_viewer('16.pdb')\n",
    "ph = binding_viewer('24.pdb')\n",
    "coo = binding_viewer('32.pdb')"
   ]
  },
  {
   "cell_type": "markdown",
   "metadata": {},
   "source": [
    "По порядку: **OH, NH3+, H, Ph, COO-**:"
   ]
  },
  {
   "cell_type": "code",
   "execution_count": 21,
   "metadata": {},
   "outputs": [
    {
     "data": {
      "application/vnd.jupyter.widget-view+json": {
       "model_id": "6b9a13158d614d74a111269bcdc50fa5",
       "version_major": 2,
       "version_minor": 0
      },
      "text/plain": [
       "HBox(children=(NGLWidget(), NGLWidget()))"
      ]
     },
     "metadata": {},
     "output_type": "display_data"
    }
   ],
   "source": [
    "HBox((oh, nh3))"
   ]
  },
  {
   "cell_type": "code",
   "execution_count": 22,
   "metadata": {},
   "outputs": [
    {
     "data": {
      "application/vnd.jupyter.widget-view+json": {
       "model_id": "836e6fc645fe4805a4f2df3e1c95d118",
       "version_major": 2,
       "version_minor": 0
      },
      "text/plain": [
       "HBox(children=(NGLWidget(), NGLWidget()))"
      ]
     },
     "metadata": {},
     "output_type": "display_data"
    }
   ],
   "source": [
    "HBox((h, ph))"
   ]
  },
  {
   "cell_type": "code",
   "execution_count": 24,
   "metadata": {},
   "outputs": [
    {
     "data": {
      "application/vnd.jupyter.widget-view+json": {
       "model_id": "d5072fbc05ea4d76a1582718cb78ad58",
       "version_major": 2,
       "version_minor": 0
      },
      "text/plain": [
       "NGLWidget()"
      ]
     },
     "metadata": {},
     "output_type": "display_data"
    }
   ],
   "source": [
    "coo"
   ]
  },
  {
   "cell_type": "markdown",
   "metadata": {},
   "source": [
    "Перезагрузка виджета для отображения в HTML:"
   ]
  },
  {
   "cell_type": "code",
   "execution_count": null,
   "metadata": {},
   "outputs": [],
   "source": [
    "# nv.write_html('view.html', views=[ph])"
   ]
  },
  {
   "cell_type": "code",
   "execution_count": null,
   "metadata": {},
   "outputs": [],
   "source": [
    "# ipd.HTML('view.html')"
   ]
  },
  {
   "cell_type": "code",
   "execution_count": null,
   "metadata": {},
   "outputs": [],
   "source": []
  }
 ],
 "metadata": {
  "kernelspec": {
   "display_name": "Python 3",
   "language": "python",
   "name": "python3"
  },
  "language_info": {
   "codemirror_mode": {
    "name": "ipython",
    "version": 3
   },
   "file_extension": ".py",
   "mimetype": "text/x-python",
   "name": "python",
   "nbconvert_exporter": "python",
   "pygments_lexer": "ipython3",
   "version": "3.7.5"
  }
 },
 "nbformat": 4,
 "nbformat_minor": 2
}
