{
 "cells": [
  {
   "cell_type": "markdown",
   "metadata": {},
   "source": [
    "## Занятие 7: Докинг низкомолекулярных лигандов в структуру белка\n",
    "\n",
    "### Лев Мазаев, мАДБМ18"
   ]
  },
  {
   "cell_type": "markdown",
   "metadata": {},
   "source": [
    "### Загрузка модулей"
   ]
  },
  {
   "cell_type": "code",
   "execution_count": 1,
   "metadata": {},
   "outputs": [
    {
     "name": "stderr",
     "output_type": "stream",
     "text": [
      "RDKit WARNING: [14:59:35] Enabling RDKit 2019.09.2 jupyter extensions\n"
     ]
    },
    {
     "data": {
      "application/vnd.jupyter.widget-view+json": {
       "model_id": "f5446f814f4d4964afb774559cb24076",
       "version_major": 2,
       "version_minor": 0
      },
      "text/plain": [
       "_ColormakerRegistry()"
      ]
     },
     "metadata": {},
     "output_type": "display_data"
    }
   ],
   "source": [
    "import numpy as np\n",
    "\n",
    "# Loading Open Drug Discovery Toolkit\n",
    "import oddt\n",
    "import oddt.docking\n",
    "\n",
    "# Structure and Viewing\n",
    "from Bio.PDB import *\n",
    "from ipywidgets import VBox\n",
    "import nglview as nv\n",
    "import IPython.display as ipd"
   ]
  },
  {
   "cell_type": "code",
   "execution_count": 2,
   "metadata": {},
   "outputs": [],
   "source": [
    "def viewer(*args):\n",
    "    # функция для трехмерного отображения моделей\n",
    "    models = []\n",
    "    for pdb in args:\n",
    "        v = nv.show_structure_file(pdb)\n",
    "        v._remote_call('setSize', target='Widget', args=['800px', '600px'])\n",
    "        v.representations = [\n",
    "            {\"type\": \"cartoon\", \"params\": {\"sele\": \"protein\", \"color\": \"residueindex\"}},\n",
    "            {\"type\": \"ball+stick\", \"params\": {\"sele\": \"ligand\"}}\n",
    "        ]\n",
    "        models.append(v)\n",
    "    return(VBox(models))"
   ]
  },
  {
   "cell_type": "markdown",
   "metadata": {},
   "source": [
    "### Подготовка белка\n",
    "\n",
    "Визуализируем структуру белка с лигандом:"
   ]
  },
  {
   "cell_type": "code",
   "execution_count": 3,
   "metadata": {},
   "outputs": [
    {
     "data": {
      "application/vnd.jupyter.widget-view+json": {
       "model_id": "859e23b1b3f843df9d1e9a2804291542",
       "version_major": 2,
       "version_minor": 0
      },
      "text/plain": [
       "VBox(children=(NGLWidget(),))"
      ]
     },
     "metadata": {},
     "output_type": "display_data"
    }
   ],
   "source": [
    "view1 = viewer('lys_pig_ligand.B99990002.pdb')\n",
    "view1"
   ]
  },
  {
   "cell_type": "markdown",
   "metadata": {},
   "source": [
    "Загрузим структуру и посмотрим остатки:"
   ]
  },
  {
   "cell_type": "code",
   "execution_count": 4,
   "metadata": {},
   "outputs": [
    {
     "name": "stdout",
     "output_type": "stream",
     "text": [
      "<Residue ILE het=  resseq=141 icode= >\n",
      "<Residue ARG het=  resseq=142 icode= >\n",
      "<Residue GLY het=  resseq=143 icode= >\n",
      "<Residue CYS het=  resseq=144 icode= >\n",
      "<Residue LYS het=  resseq=145 icode= >\n",
      "<Residue LEU het=  resseq=146 icode= >\n",
      "<Residue NAG het=H_NAG resseq=147 icode= >\n",
      "<Residue NAG het=H_NAG resseq=148 icode= >\n",
      "<Residue NDG het=H_NDG resseq=149 icode= >\n"
     ]
    }
   ],
   "source": [
    "parser = PDBParser()\n",
    "pdb = parser.get_structure('lys_pig_ligand', 'lys_pig_ligand.B99990002.pdb')\n",
    "\n",
    "for res in pdb.get_residues():\n",
    "    if res.id[1] > 140:\n",
    "        print(res)"
   ]
  },
  {
   "cell_type": "markdown",
   "metadata": {},
   "source": [
    "147-149 остатки в структуре - лиганд. Создадим отдельные объекты белка и лиганда, визуализируем их:"
   ]
  },
  {
   "cell_type": "code",
   "execution_count": 5,
   "metadata": {},
   "outputs": [
    {
     "data": {
      "application/vnd.jupyter.widget-view+json": {
       "model_id": "6dd915504834451e8bc5a8de2578c582",
       "version_major": 2,
       "version_minor": 0
      },
      "text/plain": [
       "VBox(children=(NGLWidget(), NGLWidget()))"
      ]
     },
     "metadata": {},
     "output_type": "display_data"
    }
   ],
   "source": [
    "class NonHetSelect(Select):\n",
    "    \n",
    "    def accept_residue(self, residue):\n",
    "        return 1 if residue.id[0] == ' ' else 0\n",
    "    \n",
    "class HetSelect(Select):\n",
    "    \n",
    "    def accept_residue(self, residue):\n",
    "        return 0 if residue.id[0] == ' ' else 1\n",
    "    \n",
    "io = PDBIO()\n",
    "io.set_structure(pdb)\n",
    "io.save('protein.pdb', NonHetSelect())\n",
    "io.save('ligand.pdb', HetSelect())\n",
    "\n",
    "view2 = viewer('protein.pdb', 'ligand.pdb')\n",
    "view2"
   ]
  },
  {
   "cell_type": "markdown",
   "metadata": {},
   "source": [
    "Найдем геометрический центр лиганда:"
   ]
  },
  {
   "cell_type": "code",
   "execution_count": 6,
   "metadata": {},
   "outputs": [
    {
     "name": "stdout",
     "output_type": "stream",
     "text": [
      "[46.8601162  32.48079069 31.7858138 ]\n"
     ]
    }
   ],
   "source": [
    "ligand = parser.get_structure('ligand', 'ligand.pdb')\n",
    "atom_coords = []\n",
    "\n",
    "for atom in ligand.get_atoms():\n",
    "    v = atom.get_vector()\n",
    "    atom_coords.append(v.get_array())\n",
    "    \n",
    "geom_center = np.mean(atom_coords, axis=0)\n",
    "print(geom_center)"
   ]
  },
  {
   "cell_type": "markdown",
   "metadata": {},
   "source": [
    "### Подготовка белка для докинга"
   ]
  },
  {
   "cell_type": "code",
   "execution_count": 7,
   "metadata": {},
   "outputs": [
    {
     "data": {
      "text/plain": [
       "True"
      ]
     },
     "execution_count": 7,
     "metadata": {},
     "output_type": "execute_result"
    }
   ],
   "source": [
    "protein = next(oddt.toolkit.readfile('pdb', 'protein.pdb'))\n",
    "protein.OBMol.AddPolarHydrogens()\n",
    "protein.OBMol.AutomaticPartialCharge()"
   ]
  },
  {
   "cell_type": "code",
   "execution_count": 8,
   "metadata": {},
   "outputs": [
    {
     "name": "stdout",
     "output_type": "stream",
     "text": [
      "Is it protein? False\n",
      "Molecular weight: 16475.905\n"
     ]
    }
   ],
   "source": [
    "print(f'Is it protein? {protein.protein}')\n",
    "print(f'Molecular weight: {round(protein.molwt, 3)}')\n",
    "protein.protein = True  # исправим"
   ]
  },
  {
   "cell_type": "markdown",
   "metadata": {},
   "source": [
    "### Лиганды для докинга\n",
    "\n",
    "Отобразим исходный лиганд:"
   ]
  },
  {
   "cell_type": "code",
   "execution_count": 9,
   "metadata": {},
   "outputs": [
    {
     "data": {
      "image/svg+xml": [
       "<svg height=\"500px\" id=\"topsvg\" version=\"1.1\" viewBox=\"0 0 100 100\" width=\"500px\" x=\"0\" xmlns=\"http://www.w3.org/2000/svg\" xmlns:cml=\"http://www.xml-cml.org/schema\" xmlns:xlink=\"http://www.w3.org/1999/xlink\" y=\"0\">\n",
       "<title>ligand.pdb - Open Babel Depiction</title>\n",
       "<rect fill=\"white\" height=\"100\" width=\"100\" x=\"0\" y=\"0\"/>\n",
       "<g transform=\"translate(0,0)\">\n",
       "<svg font-family=\"sans-serif\" height=\"100\" stroke=\"rgb(0,0,0)\" stroke-linecap=\"round\" stroke-width=\"2\" viewBox=\"0 0 530.333 440\" width=\"100\" x=\"0\" y=\"0\">\n",
       "<line stroke=\"rgb(0,0,0)\" stroke-width=\"2.0\" x1=\"282.5\" x2=\"282.5\" y1=\"247.0\" y2=\"220.0\"/>\n",
       "<line stroke=\"rgb(0,0,0)\" stroke-width=\"1.0\" x1=\"310.6\" x2=\"309.8\" y1=\"204.7\" y2=\"203.3\"/>\n",
       "<line stroke=\"rgb(0,0,0)\" stroke-width=\"1.0\" x1=\"305.4\" x2=\"303.9\" y1=\"208.4\" y2=\"206.0\"/>\n",
       "<line stroke=\"rgb(0,0,0)\" stroke-width=\"1.0\" x1=\"300.2\" x2=\"298.1\" y1=\"212.2\" y2=\"208.6\"/>\n",
       "<line stroke=\"rgb(0,0,0)\" stroke-width=\"1.0\" x1=\"294.9\" x2=\"292.2\" y1=\"216.0\" y2=\"211.2\"/>\n",
       "<line stroke=\"rgb(0,0,0)\" stroke-width=\"1.0\" x1=\"289.7\" x2=\"286.3\" y1=\"219.7\" y2=\"213.9\"/>\n",
       "<line stroke=\"rgb(0,0,0)\" stroke-width=\"1.0\" x1=\"284.5\" x2=\"280.5\" y1=\"223.5\" y2=\"216.5\"/>\n",
       "<line stroke=\"rgb(0,0,0)\" stroke-width=\"2.0\" x1=\"155.2\" x2=\"178.6\" y1=\"93.5\" y2=\"80.0\"/>\n",
       "<polygon fill=\"rgb(0,0,0)\" points=\"386.410162 200.000000 411.619642 209.935898 407.619642 216.864102 \" stroke=\"rgb(0,0,0)\" stroke-width=\"2.000000\"/>\n",
       "<polygon fill=\"rgb(0,0,0)\" points=\"386.410162 160.000000 407.619642 143.135898 411.619642 150.064102 \" stroke=\"rgb(0,0,0)\" stroke-width=\"2.000000\"/>\n",
       "<line stroke=\"rgb(0,0,0)\" stroke-width=\"2.0\" x1=\"455.7\" x2=\"455.7\" y1=\"187.0\" y2=\"160.0\"/>\n",
       "<polygon fill=\"rgb(0,0,0)\" points=\"317.128129 160.000000 291.918648 150.064102 295.918648 143.135898 \" stroke=\"rgb(0,0,0)\" stroke-width=\"2.000000\"/>\n",
       "<line stroke=\"rgb(0,0,0)\" stroke-width=\"2.0\" x1=\"178.6\" x2=\"201.9\" y1=\"80.0\" y2=\"93.5\"/>\n",
       "<line stroke=\"rgb(0,0,0)\" stroke-width=\"2.0\" x1=\"175.6\" x2=\"175.6\" y1=\"80.0\" y2=\"53.0\"/>\n",
       "<line stroke=\"rgb(0,0,0)\" stroke-width=\"2.0\" x1=\"181.6\" x2=\"181.6\" y1=\"80.0\" y2=\"53.0\"/>\n",
       "<line stroke=\"rgb(0,0,0)\" stroke-width=\"2.0\" x1=\"455.7\" x2=\"432.3\" y1=\"160.0\" y2=\"146.5\"/>\n",
       "<line stroke=\"rgb(0,0,0)\" stroke-width=\"2.0\" x1=\"454.2\" x2=\"477.6\" y1=\"157.4\" y2=\"143.9\"/>\n",
       "<line stroke=\"rgb(0,0,0)\" stroke-width=\"2.0\" x1=\"457.2\" x2=\"480.6\" y1=\"162.6\" y2=\"149.1\"/>\n",
       "<line stroke=\"rgb(0,0,0)\" stroke-width=\"1.0\" x1=\"351.0\" x2=\"352.6\" y1=\"134.6\" y2=\"134.6\"/>\n",
       "<line stroke=\"rgb(0,0,0)\" stroke-width=\"1.0\" x1=\"350.3\" x2=\"353.2\" y1=\"130.4\" y2=\"130.4\"/>\n",
       "<line stroke=\"rgb(0,0,0)\" stroke-width=\"1.0\" x1=\"349.7\" x2=\"353.8\" y1=\"126.1\" y2=\"126.1\"/>\n",
       "<line stroke=\"rgb(0,0,0)\" stroke-width=\"1.0\" x1=\"349.0\" x2=\"354.5\" y1=\"121.8\" y2=\"121.8\"/>\n",
       "<line stroke=\"rgb(0,0,0)\" stroke-width=\"1.0\" x1=\"348.4\" x2=\"355.1\" y1=\"117.5\" y2=\"117.5\"/>\n",
       "<line stroke=\"rgb(0,0,0)\" stroke-width=\"1.0\" x1=\"347.8\" x2=\"355.8\" y1=\"113.2\" y2=\"113.2\"/>\n",
       "<polygon fill=\"rgb(0,0,0)\" points=\"213.205081 140.000000 209.205081 113.200000 217.205081 113.200000 \" stroke=\"rgb(0,0,0)\" stroke-width=\"2.000000\"/>\n",
       "<line stroke=\"rgb(0,0,0)\" stroke-width=\"1.0\" x1=\"252.1\" x2=\"252.9\" y1=\"156.6\" y2=\"158.0\"/>\n",
       "<line stroke=\"rgb(0,0,0)\" stroke-width=\"1.0\" x1=\"255.5\" x2=\"256.9\" y1=\"153.9\" y2=\"156.4\"/>\n",
       "<line stroke=\"rgb(0,0,0)\" stroke-width=\"1.0\" x1=\"258.9\" x2=\"261.0\" y1=\"151.2\" y2=\"154.8\"/>\n",
       "<line stroke=\"rgb(0,0,0)\" stroke-width=\"1.0\" x1=\"262.3\" x2=\"265.0\" y1=\"148.5\" y2=\"153.2\"/>\n",
       "<line stroke=\"rgb(0,0,0)\" stroke-width=\"1.0\" x1=\"265.7\" x2=\"269.0\" y1=\"145.8\" y2=\"151.7\"/>\n",
       "<line stroke=\"rgb(0,0,0)\" stroke-width=\"1.0\" x1=\"269.1\" x2=\"273.1\" y1=\"143.1\" y2=\"150.1\"/>\n",
       "<line stroke=\"rgb(0,0,0)\" stroke-width=\"1.0\" x1=\"173.5\" x2=\"174.3\" y1=\"158.0\" y2=\"156.6\"/>\n",
       "<line stroke=\"rgb(0,0,0)\" stroke-width=\"1.0\" x1=\"169.5\" x2=\"170.9\" y1=\"156.4\" y2=\"153.9\"/>\n",
       "<line stroke=\"rgb(0,0,0)\" stroke-width=\"1.0\" x1=\"165.5\" x2=\"167.5\" y1=\"154.8\" y2=\"151.2\"/>\n",
       "<line stroke=\"rgb(0,0,0)\" stroke-width=\"1.0\" x1=\"161.4\" x2=\"164.1\" y1=\"153.2\" y2=\"148.5\"/>\n",
       "<line stroke=\"rgb(0,0,0)\" stroke-width=\"1.0\" x1=\"157.4\" x2=\"160.7\" y1=\"151.7\" y2=\"145.8\"/>\n",
       "<line stroke=\"rgb(0,0,0)\" stroke-width=\"1.0\" x1=\"153.4\" x2=\"157.4\" y1=\"150.1\" y2=\"143.1\"/>\n",
       "<line stroke=\"rgb(0,0,0)\" stroke-width=\"1.0\" x1=\"214.0\" x2=\"212.4\" y1=\"228.0\" y2=\"228.0\"/>\n",
       "<line stroke=\"rgb(0,0,0)\" stroke-width=\"1.0\" x1=\"214.6\" x2=\"211.8\" y1=\"234.4\" y2=\"234.4\"/>\n",
       "<line stroke=\"rgb(0,0,0)\" stroke-width=\"1.0\" x1=\"215.3\" x2=\"211.1\" y1=\"240.8\" y2=\"240.8\"/>\n",
       "<line stroke=\"rgb(0,0,0)\" stroke-width=\"1.0\" x1=\"215.9\" x2=\"210.5\" y1=\"247.2\" y2=\"247.2\"/>\n",
       "<line stroke=\"rgb(0,0,0)\" stroke-width=\"1.0\" x1=\"216.6\" x2=\"209.8\" y1=\"253.6\" y2=\"253.6\"/>\n",
       "<line stroke=\"rgb(0,0,0)\" stroke-width=\"1.0\" x1=\"217.2\" x2=\"209.2\" y1=\"260.0\" y2=\"260.0\"/>\n",
       "<polygon fill=\"rgb(0,0,0)\" points=\"178.564065 200.000000 157.354584 216.864102 153.354584 209.935898 \" stroke=\"rgb(0,0,0)\" stroke-width=\"2.000000\"/>\n",
       "<line stroke=\"rgb(0,0,0)\" stroke-width=\"1.0\" x1=\"143.1\" x2=\"144.7\" y1=\"254.6\" y2=\"254.6\"/>\n",
       "<line stroke=\"rgb(0,0,0)\" stroke-width=\"1.0\" x1=\"142.5\" x2=\"145.4\" y1=\"250.4\" y2=\"250.4\"/>\n",
       "<line stroke=\"rgb(0,0,0)\" stroke-width=\"1.0\" x1=\"141.8\" x2=\"146.0\" y1=\"246.1\" y2=\"246.1\"/>\n",
       "<line stroke=\"rgb(0,0,0)\" stroke-width=\"1.0\" x1=\"141.2\" x2=\"146.6\" y1=\"241.8\" y2=\"241.8\"/>\n",
       "<line stroke=\"rgb(0,0,0)\" stroke-width=\"1.0\" x1=\"140.6\" x2=\"147.3\" y1=\"237.5\" y2=\"237.5\"/>\n",
       "<line stroke=\"rgb(0,0,0)\" stroke-width=\"1.0\" x1=\"139.9\" x2=\"147.9\" y1=\"233.2\" y2=\"233.2\"/>\n",
       "<line stroke=\"rgb(0,0,0)\" stroke-width=\"2.0\" x1=\"52.8\" x2=\"76.1\" y1=\"203.9\" y2=\"217.4\"/>\n",
       "<line stroke=\"rgb(0,0,0)\" stroke-width=\"2.0\" x1=\"49.8\" x2=\"73.1\" y1=\"209.1\" y2=\"222.6\"/>\n",
       "<line stroke=\"rgb(0,0,0)\" stroke-width=\"2.0\" x1=\"213.2\" x2=\"236.6\" y1=\"260.0\" y2=\"273.5\"/>\n",
       "<line stroke=\"rgb(0,0,0)\" stroke-width=\"2.0\" x1=\"213.2\" x2=\"213.2\" y1=\"367.0\" y2=\"340.0\"/>\n",
       "<line stroke=\"rgb(0,0,0)\" stroke-width=\"2.0\" x1=\"74.6\" x2=\"98.0\" y1=\"220.0\" y2=\"206.5\"/>\n",
       "<line stroke=\"rgb(0,0,0)\" stroke-width=\"2.0\" x1=\"74.6\" x2=\"74.6\" y1=\"220.0\" y2=\"247.0\"/>\n",
       "<line stroke=\"rgb(0,0,0)\" stroke-width=\"1.0\" x1=\"185.9\" x2=\"185.1\" y1=\"323.3\" y2=\"324.7\"/>\n",
       "<line stroke=\"rgb(0,0,0)\" stroke-width=\"1.0\" x1=\"191.8\" x2=\"190.3\" y1=\"326.0\" y2=\"328.4\"/>\n",
       "<line stroke=\"rgb(0,0,0)\" stroke-width=\"1.0\" x1=\"197.6\" x2=\"195.5\" y1=\"328.6\" y2=\"332.2\"/>\n",
       "<line stroke=\"rgb(0,0,0)\" stroke-width=\"1.0\" x1=\"203.5\" x2=\"200.8\" y1=\"331.2\" y2=\"336.0\"/>\n",
       "<line stroke=\"rgb(0,0,0)\" stroke-width=\"1.0\" x1=\"209.3\" x2=\"206.0\" y1=\"333.9\" y2=\"339.7\"/>\n",
       "<line stroke=\"rgb(0,0,0)\" stroke-width=\"1.0\" x1=\"215.2\" x2=\"211.2\" y1=\"336.5\" y2=\"343.5\"/>\n",
       "<polygon fill=\"rgb(0,0,0)\" points=\"109.282032 280.000000 84.072551 270.064102 88.072551 263.135898 \" stroke=\"rgb(0,0,0)\" stroke-width=\"2.000000\"/>\n",
       "<polygon fill=\"rgb(0,0,0)\" points=\"143.923048 340.000000 147.923048 366.800000 139.923048 366.800000 \" stroke=\"rgb(0,0,0)\" stroke-width=\"2.000000\"/>\n",
       "<line stroke=\"rgb(0,0,0)\" stroke-width=\"1.0\" x1=\"105.0\" x2=\"104.2\" y1=\"323.4\" y2=\"322.0\"/>\n",
       "<line stroke=\"rgb(0,0,0)\" stroke-width=\"1.0\" x1=\"101.6\" x2=\"100.2\" y1=\"326.1\" y2=\"323.6\"/>\n",
       "<line stroke=\"rgb(0,0,0)\" stroke-width=\"1.0\" x1=\"98.3\" x2=\"96.2\" y1=\"328.8\" y2=\"325.2\"/>\n",
       "<line stroke=\"rgb(0,0,0)\" stroke-width=\"1.0\" x1=\"94.9\" x2=\"92.1\" y1=\"331.5\" y2=\"326.8\"/>\n",
       "<line stroke=\"rgb(0,0,0)\" stroke-width=\"1.0\" x1=\"91.5\" x2=\"88.1\" y1=\"334.2\" y2=\"328.3\"/>\n",
       "<line stroke=\"rgb(0,0,0)\" stroke-width=\"1.0\" x1=\"88.1\" x2=\"84.1\" y1=\"336.9\" y2=\"329.9\"/>\n",
       "<line stroke=\"rgb(0,0,0)\" stroke-width=\"2.0\" x1=\"63.4\" x2=\"51.3\" y1=\"266.5\" y2=\"273.5\"/>\n",
       "<line stroke=\"rgb(0,0,0)\" stroke-width=\"2.0\" x1=\"74.6\" x2=\"74.6\" y1=\"353.0\" y2=\"367.0\"/>\n",
       "<line stroke=\"rgb(0,0,0)\" stroke-width=\"2.0\" x1=\"132.7\" x2=\"120.5\" y1=\"386.5\" y2=\"393.5\"/>\n",
       "<line stroke=\"rgb(0,0,0)\" stroke-width=\"2.0\" x1=\"201.9\" x2=\"189.8\" y1=\"386.5\" y2=\"393.5\"/>\n",
       "<line stroke=\"rgb(0,0,0)\" stroke-width=\"2.0\" x1=\"224.5\" x2=\"236.6\" y1=\"93.5\" y2=\"86.5\"/>\n",
       "<line stroke=\"rgb(0,0,0)\" stroke-width=\"2.0\" x1=\"132.7\" x2=\"120.5\" y1=\"146.5\" y2=\"153.5\"/>\n",
       "<line stroke=\"rgb(0,0,0)\" stroke-width=\"2.0\" x1=\"247.8\" x2=\"247.8\" y1=\"293.0\" y2=\"307.0\"/>\n",
       "<line stroke=\"rgb(0,0,0)\" stroke-width=\"2.0\" x1=\"363.0\" x2=\"375.2\" y1=\"93.5\" y2=\"86.5\"/>\n",
       "<line stroke=\"rgb(0,0,0)\" stroke-width=\"2.0\" x1=\"293.7\" x2=\"305.9\" y1=\"266.5\" y2=\"273.5\"/>\n",
       "<line stroke=\"rgb(0,0,0)\" stroke-width=\"2.0\" x1=\"421.1\" x2=\"421.1\" y1=\"127.0\" y2=\"113.0\"/>\n",
       "<line stroke=\"rgb(0,0,0)\" stroke-width=\"2.0\" x1=\"421.1\" x2=\"421.1\" y1=\"233.0\" y2=\"247.0\"/>\n",
       "<line stroke=\"rgb(0,0,0)\" stroke-width=\"2.0\" x1=\"386.4\" x2=\"363.0\" y1=\"200.0\" y2=\"213.5\"/>\n",
       "<line stroke=\"rgb(0,0,0)\" stroke-width=\"2.0\" x1=\"340.5\" x2=\"317.1\" y1=\"213.5\" y2=\"200.0\"/>\n",
       "<line stroke=\"rgb(0,0,0)\" stroke-width=\"2.0\" x1=\"317.1\" x2=\"317.1\" y1=\"200.0\" y2=\"160.0\"/>\n",
       "<line stroke=\"rgb(0,0,0)\" stroke-width=\"2.0\" x1=\"317.1\" x2=\"351.8\" y1=\"160.0\" y2=\"140.0\"/>\n",
       "<line stroke=\"rgb(0,0,0)\" stroke-width=\"2.0\" x1=\"351.8\" x2=\"386.4\" y1=\"140.0\" y2=\"160.0\"/>\n",
       "<line stroke=\"rgb(0,0,0)\" stroke-width=\"2.0\" x1=\"386.4\" x2=\"386.4\" y1=\"160.0\" y2=\"200.0\"/>\n",
       "<line stroke=\"rgb(0,0,0)\" stroke-width=\"2.0\" x1=\"247.8\" x2=\"247.8\" y1=\"160.0\" y2=\"187.0\"/>\n",
       "<line stroke=\"rgb(0,0,0)\" stroke-width=\"2.0\" x1=\"236.6\" x2=\"213.2\" y1=\"206.5\" y2=\"220.0\"/>\n",
       "<line stroke=\"rgb(0,0,0)\" stroke-width=\"2.0\" x1=\"213.2\" x2=\"178.6\" y1=\"220.0\" y2=\"200.0\"/>\n",
       "<line stroke=\"rgb(0,0,0)\" stroke-width=\"2.0\" x1=\"178.6\" x2=\"178.6\" y1=\"200.0\" y2=\"160.0\"/>\n",
       "<line stroke=\"rgb(0,0,0)\" stroke-width=\"2.0\" x1=\"178.6\" x2=\"213.2\" y1=\"160.0\" y2=\"140.0\"/>\n",
       "<line stroke=\"rgb(0,0,0)\" stroke-width=\"2.0\" x1=\"213.2\" x2=\"247.8\" y1=\"140.0\" y2=\"160.0\"/>\n",
       "<line stroke=\"rgb(0,0,0)\" stroke-width=\"2.0\" x1=\"109.3\" x2=\"143.9\" y1=\"320.0\" y2=\"340.0\"/>\n",
       "<line stroke=\"rgb(0,0,0)\" stroke-width=\"2.0\" x1=\"143.9\" x2=\"178.6\" y1=\"340.0\" y2=\"320.0\"/>\n",
       "<line stroke=\"rgb(0,0,0)\" stroke-width=\"2.0\" x1=\"178.6\" x2=\"178.6\" y1=\"320.0\" y2=\"293.0\"/>\n",
       "<line stroke=\"rgb(0,0,0)\" stroke-width=\"2.0\" x1=\"167.3\" x2=\"143.9\" y1=\"273.5\" y2=\"260.0\"/>\n",
       "<line stroke=\"rgb(0,0,0)\" stroke-width=\"2.0\" x1=\"143.9\" x2=\"109.3\" y1=\"260.0\" y2=\"280.0\"/>\n",
       "<line stroke=\"rgb(0,0,0)\" stroke-width=\"2.0\" x1=\"109.3\" x2=\"109.3\" y1=\"280.0\" y2=\"320.0\"/>\n",
       "<text fill=\"rgb(12,12,255)\" font-size=\"16\" stroke=\"rgb(12,12,255)\" stroke-width=\"1\" x=\"415.051178\" y=\"148.000000\">N</text>\n",
       "<text fill=\"rgb(102,102,102)\" font-size=\"16\" stroke=\"rgb(102,102,102)\" stroke-width=\"1\" x=\"451.692194\" y=\"208.000000\">CH</text>\n",
       "<text fill=\"rgb(102,102,102)\" font-size=\"13\" stroke=\"rgb(102,102,102)\" stroke-width=\"1\" x=\"475.692194\" y=\"211.680000\">3</text>\n",
       "<text fill=\"rgb(255,12,12)\" font-size=\"16\" stroke=\"rgb(255,12,12)\" stroke-width=\"1\" x=\"345.769145\" y=\"228.000000\">O</text>\n",
       "<text fill=\"rgb(255,12,12)\" font-size=\"16\" stroke=\"rgb(255,12,12)\" stroke-width=\"1\" x=\"345.769145\" y=\"108.000000\">O</text>\n",
       "<text fill=\"rgb(255,12,12)\" font-size=\"16\" stroke=\"rgb(255,12,12)\" stroke-width=\"1\" x=\"276.487113\" y=\"148.000000\">O</text>\n",
       "<text fill=\"rgb(255,12,12)\" font-size=\"16\" stroke=\"rgb(255,12,12)\" stroke-width=\"1\" x=\"276.487113\" y=\"268.000000\">O</text>\n",
       "<text fill=\"rgb(255,12,12)\" font-size=\"16\" stroke=\"rgb(255,12,12)\" stroke-width=\"1\" x=\"484.333210\" y=\"148.000000\">O</text>\n",
       "<text fill=\"rgb(255,12,12)\" font-size=\"16\" stroke=\"rgb(255,12,12)\" stroke-width=\"1\" x=\"172.564065\" y=\"48.000000\">O</text>\n",
       "<text fill=\"rgb(255,12,12)\" font-size=\"16\" stroke=\"rgb(255,12,12)\" stroke-width=\"1\" x=\"415.051178\" y=\"228.000000\">O</text>\n",
       "<text fill=\"rgb(191,191,191)\" font-size=\"16\" stroke=\"rgb(191,191,191)\" stroke-width=\"1\" x=\"34.000000\" y=\"288.000000\">H</text>\n",
       "<text fill=\"rgb(191,191,191)\" font-size=\"16\" stroke=\"rgb(191,191,191)\" stroke-width=\"1\" x=\"68.641016\" y=\"388.000000\">H</text>\n",
       "<text fill=\"rgb(191,191,191)\" font-size=\"16\" stroke=\"rgb(191,191,191)\" stroke-width=\"1\" x=\"103.282032\" y=\"408.000000\">H</text>\n",
       "<text fill=\"rgb(191,191,191)\" font-size=\"16\" stroke=\"rgb(191,191,191)\" stroke-width=\"1\" x=\"172.564065\" y=\"408.000000\">H</text>\n",
       "<text fill=\"rgb(191,191,191)\" font-size=\"16\" stroke=\"rgb(191,191,191)\" stroke-width=\"1\" x=\"241.846097\" y=\"88.000000\">H</text>\n",
       "<text fill=\"rgb(191,191,191)\" font-size=\"16\" stroke=\"rgb(191,191,191)\" stroke-width=\"1\" x=\"103.282032\" y=\"168.000000\">H</text>\n",
       "<text fill=\"rgb(191,191,191)\" font-size=\"16\" stroke=\"rgb(191,191,191)\" stroke-width=\"1\" x=\"241.846097\" y=\"328.000000\">H</text>\n",
       "<text fill=\"rgb(191,191,191)\" font-size=\"16\" stroke=\"rgb(191,191,191)\" stroke-width=\"1\" x=\"380.410162\" y=\"88.000000\">H</text>\n",
       "<text fill=\"rgb(191,191,191)\" font-size=\"16\" stroke=\"rgb(191,191,191)\" stroke-width=\"1\" x=\"311.128129\" y=\"288.000000\">H</text>\n",
       "<text fill=\"rgb(191,191,191)\" font-size=\"16\" stroke=\"rgb(191,191,191)\" stroke-width=\"1\" x=\"415.051178\" y=\"108.000000\">H</text>\n",
       "<text fill=\"rgb(191,191,191)\" font-size=\"16\" stroke=\"rgb(191,191,191)\" stroke-width=\"1\" x=\"415.051178\" y=\"268.000000\">H</text>\n",
       "<text fill=\"rgb(102,102,102)\" font-size=\"16\" stroke=\"rgb(102,102,102)\" stroke-width=\"1\" x=\"105.282032\" y=\"208.000000\">CH</text>\n",
       "<text fill=\"rgb(102,102,102)\" font-size=\"13\" stroke=\"rgb(102,102,102)\" stroke-width=\"1\" x=\"129.282032\" y=\"211.680000\">3</text>\n",
       "<text fill=\"rgb(12,12,255)\" font-size=\"16\" stroke=\"rgb(12,12,255)\" stroke-width=\"1\" x=\"68.641016\" y=\"268.000000\">N</text>\n",
       "<text fill=\"rgb(255,12,12)\" font-size=\"16\" stroke=\"rgb(255,12,12)\" stroke-width=\"1\" x=\"68.641016\" y=\"348.000000\">O</text>\n",
       "<text fill=\"rgb(255,12,12)\" font-size=\"16\" stroke=\"rgb(255,12,12)\" stroke-width=\"1\" x=\"137.923048\" y=\"388.000000\">O</text>\n",
       "<text fill=\"rgb(255,12,12)\" font-size=\"16\" stroke=\"rgb(255,12,12)\" stroke-width=\"1\" x=\"172.564065\" y=\"288.000000\">O</text>\n",
       "<text fill=\"rgb(255,12,12)\" font-size=\"16\" stroke=\"rgb(255,12,12)\" stroke-width=\"1\" x=\"207.205081\" y=\"388.000000\">O</text>\n",
       "<text fill=\"rgb(255,12,12)\" font-size=\"16\" stroke=\"rgb(255,12,12)\" stroke-width=\"1\" x=\"34.000000\" y=\"208.000000\">O</text>\n",
       "<text fill=\"rgb(102,102,102)\" font-size=\"16\" stroke=\"rgb(102,102,102)\" stroke-width=\"1\" x=\"117.923048\" y=\"108.000000\">H</text>\n",
       "<text fill=\"rgb(102,102,102)\" font-size=\"13\" stroke=\"rgb(102,102,102)\" stroke-width=\"1\" x=\"129.923048\" y=\"111.680000\">3</text>\n",
       "<text fill=\"rgb(102,102,102)\" font-size=\"16\" stroke=\"rgb(102,102,102)\" stroke-width=\"1\" x=\"136.423048\" y=\"108.000000\">C</text>\n",
       "<text fill=\"rgb(12,12,255)\" font-size=\"16\" stroke=\"rgb(12,12,255)\" stroke-width=\"1\" x=\"207.205081\" y=\"108.000000\">N</text>\n",
       "<text fill=\"rgb(255,12,12)\" font-size=\"16\" stroke=\"rgb(255,12,12)\" stroke-width=\"1\" x=\"137.923048\" y=\"148.000000\">O</text>\n",
       "<text fill=\"rgb(255,12,12)\" font-size=\"16\" stroke=\"rgb(255,12,12)\" stroke-width=\"1\" x=\"137.923048\" y=\"228.000000\">O</text>\n",
       "<text fill=\"rgb(255,12,12)\" font-size=\"16\" stroke=\"rgb(255,12,12)\" stroke-width=\"1\" x=\"241.846097\" y=\"208.000000\">O</text>\n",
       "<text fill=\"rgb(255,12,12)\" font-size=\"16\" stroke=\"rgb(255,12,12)\" stroke-width=\"1\" x=\"241.846097\" y=\"288.000000\">O</text>\n",
       "</svg>\n",
       "</g>\n",
       "</svg>"
      ],
      "text/plain": [
       "<IPython.core.display.SVG object>"
      ]
     },
     "execution_count": 9,
     "metadata": {},
     "output_type": "execute_result"
    }
   ],
   "source": [
    "ligand = next(oddt.toolkit.readfile('pdb', 'ligand.pdb'))\n",
    "ligand.OBMol.AddPolarHydrogens()\n",
    "ligand.OBMol.AutomaticPartialCharge()\n",
    "ipd.SVG(ligand.write('svg', opt={'d': None, 'P': 500}))"
   ]
  },
  {
   "cell_type": "markdown",
   "metadata": {},
   "source": [
    "По заданию не совсем понятно, нужно провести докинг только модифицированного NAG или всего лиганда целиком (NAG-NAG-NDG) с модифицированными NAG. Решил сделать второе. Исходная SMILES-формула:"
   ]
  },
  {
   "cell_type": "code",
   "execution_count": 10,
   "metadata": {},
   "outputs": [
    {
     "data": {
      "text/plain": [
       "'[C@@H]1([C@@H]([C@H]([C@@H]([C@@H](CO)O1)O)O)NC(=O)C)O[C@H]1[C@@H]([C@H]([C@@H](O[C@@H]1CO)O[C@H]1[C@@H]([C@H]([C@H](O[C@@H]1CO)O)NC(=O)C)O)NC(=O)C)O'"
      ]
     },
     "execution_count": 10,
     "metadata": {},
     "output_type": "execute_result"
    }
   ],
   "source": [
    "ligand.smiles"
   ]
  },
  {
   "cell_type": "markdown",
   "metadata": {},
   "source": [
    "### Докинг"
   ]
  },
  {
   "cell_type": "code",
   "execution_count": null,
   "metadata": {},
   "outputs": [],
   "source": [
    "dock_obj = oddt.docking.AutodockVina.autodock_vina(\n",
    "    protein=protein, size=(20, 20, 20), center=geom_center,\n",
    "    executable='/home/leo/Software/vina/vina', autocleanup=True, num_modes=8\n",
    ")"
   ]
  }
 ],
 "metadata": {
  "kernelspec": {
   "display_name": "Python 3",
   "language": "python",
   "name": "python3"
  },
  "language_info": {
   "codemirror_mode": {
    "name": "ipython",
    "version": 3
   },
   "file_extension": ".py",
   "mimetype": "text/x-python",
   "name": "python",
   "nbconvert_exporter": "python",
   "pygments_lexer": "ipython3",
   "version": "3.7.5"
  }
 },
 "nbformat": 4,
 "nbformat_minor": 2
}
