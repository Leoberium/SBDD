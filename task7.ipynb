{
 "cells": [
  {
   "cell_type": "markdown",
   "metadata": {},
   "source": [
    "## Занятие 7: Докинг низкомолекулярных лигандов в структуру белка\n",
    "\n",
    "### Лев Мазаев, мАДБМ18"
   ]
  },
  {
   "cell_type": "markdown",
   "metadata": {},
   "source": [
    "### Загрузка модулей"
   ]
  },
  {
   "cell_type": "code",
   "execution_count": null,
   "metadata": {},
   "outputs": [],
   "source": [
    "import numpy as np\n",
    "\n",
    "# Loading Open Drug Discovery Toolkit\n",
    "import oddt\n",
    "import oddt.docking\n",
    "import oddt.interactions\n",
    "\n",
    "# Structure and Viewing\n",
    "from Bio.PDB import *\n",
    "from ipywidgets import VBox\n",
    "import nglview as nv\n",
    "import IPython.display as ipd"
   ]
  },
  {
   "cell_type": "code",
   "execution_count": null,
   "metadata": {},
   "outputs": [],
   "source": [
    "def viewer(*args):\n",
    "    # функция для трехмерного отображения моделей\n",
    "    models = []\n",
    "    for pdb in args:\n",
    "        v = nv.show_structure_file(pdb)\n",
    "        v._remote_call('setSize', target='Widget', args=['800px', '600px'])\n",
    "        v.representations = [\n",
    "            {\"type\": \"cartoon\", \"params\": {\"sele\": \"protein\", \"color\": \"residueindex\"}},\n",
    "            {\"type\": \"ball+stick\", \"params\": {\"sele\": \"ligand\"}}\n",
    "        ]\n",
    "        models.append(v)\n",
    "    return(VBox(models))"
   ]
  },
  {
   "cell_type": "markdown",
   "metadata": {},
   "source": [
    "### Подготовка белка\n",
    "\n",
    "Визуализируем структуру белка с лигандом:"
   ]
  },
  {
   "cell_type": "code",
   "execution_count": null,
   "metadata": {},
   "outputs": [],
   "source": [
    "view1 = viewer('lys_pig_ligand.B99990002.pdb')\n",
    "view1"
   ]
  },
  {
   "cell_type": "markdown",
   "metadata": {},
   "source": [
    "Загрузим структуру и посмотрим остатки:"
   ]
  },
  {
   "cell_type": "code",
   "execution_count": null,
   "metadata": {},
   "outputs": [],
   "source": [
    "parser = PDBParser()\n",
    "pdb = parser.get_structure('lys_pig_ligand', 'lys_pig_ligand.B99990002.pdb')\n",
    "\n",
    "for res in pdb.get_residues():\n",
    "    if res.id[1] > 140:\n",
    "        print(res)"
   ]
  },
  {
   "cell_type": "markdown",
   "metadata": {},
   "source": [
    "147-149 остатки в структуре - лиганд. Создадим отдельные объекты белка и лиганда, визуализируем их:"
   ]
  },
  {
   "cell_type": "code",
   "execution_count": null,
   "metadata": {},
   "outputs": [],
   "source": [
    "class NonHetSelect(Select):\n",
    "    \n",
    "    def accept_residue(self, residue):\n",
    "        return 1 if residue.id[0] == ' ' else 0\n",
    "    \n",
    "class HetSelect(Select):\n",
    "    \n",
    "    def accept_residue(self, residue):\n",
    "        return 0 if residue.id[0] == ' ' else 1\n",
    "    \n",
    "io = PDBIO()\n",
    "io.set_structure(pdb)\n",
    "io.save('protein.pdb', NonHetSelect())\n",
    "io.save('ligand.pdb', HetSelect())\n",
    "\n",
    "view2 = viewer('protein.pdb', 'ligand.pdb')\n",
    "view2"
   ]
  },
  {
   "cell_type": "markdown",
   "metadata": {},
   "source": [
    "Найдем геометрический центр лиганда:"
   ]
  },
  {
   "cell_type": "code",
   "execution_count": null,
   "metadata": {},
   "outputs": [],
   "source": [
    "ligand = parser.get_structure('ligand', 'ligand.pdb')\n",
    "atom_coords = []\n",
    "\n",
    "for atom in ligand.get_atoms():\n",
    "    v = atom.get_vector()\n",
    "    atom_coords.append(v.get_array())\n",
    "    \n",
    "geom_center = np.mean(atom_coords, axis=0)\n",
    "print(geom_center)"
   ]
  },
  {
   "cell_type": "markdown",
   "metadata": {},
   "source": [
    "### Подготовка белка для докинга"
   ]
  },
  {
   "cell_type": "code",
   "execution_count": null,
   "metadata": {},
   "outputs": [],
   "source": [
    "protein = next(oddt.toolkit.readfile('pdb', 'protein.pdb'))\n",
    "protein.OBMol.AddPolarHydrogens()\n",
    "protein.OBMol.AutomaticPartialCharge()"
   ]
  },
  {
   "cell_type": "code",
   "execution_count": null,
   "metadata": {},
   "outputs": [],
   "source": [
    "protein"
   ]
  },
  {
   "cell_type": "code",
   "execution_count": null,
   "metadata": {},
   "outputs": [],
   "source": [
    "print(f'Is it protein? {protein.protein}')\n",
    "print(f'Molecular weight: {round(protein.molwt, 3)}')\n",
    "protein.protein = True  # исправим"
   ]
  },
  {
   "cell_type": "markdown",
   "metadata": {},
   "source": [
    "### Лиганды для докинга\n",
    "\n",
    "Отобразим исходный лиганд:"
   ]
  },
  {
   "cell_type": "code",
   "execution_count": null,
   "metadata": {},
   "outputs": [],
   "source": [
    "ligand = next(oddt.toolkit.readfile('pdb', 'ligand.pdb'))\n",
    "ligand.OBMol.AddPolarHydrogens()\n",
    "ligand.OBMol.AutomaticPartialCharge()\n",
    "ipd.SVG(ligand.write('svg', opt={'d': None, 'P': 500}))"
   ]
  },
  {
   "cell_type": "markdown",
   "metadata": {},
   "source": [
    "По заданию не совсем понятно, нужно провести докинг только модифицированного NAG или всего лиганда целиком (NAG-NAG-NDG) с модифицированными NAG. Решил сделать второе. Исходная SMILES-формула:"
   ]
  },
  {
   "cell_type": "code",
   "execution_count": null,
   "metadata": {},
   "outputs": [],
   "source": [
    "ligand.smiles"
   ]
  },
  {
   "cell_type": "code",
   "execution_count": null,
   "metadata": {},
   "outputs": [],
   "source": [
    "smiles = f'[C@@H]1([C@@H]([C@H]([C@@H]([C@@H](CO)O1)O)O)NC(=O){\"O\"})O[C@H]1[C@@H]([C@H]([C@@H](O[C@@H]1CO)O[C@H]1[C@@H]([C@H]([C@H](O[C@@H]1CO)O)NC(=O){\"[NH3+]\"})O)NC(=O){\"\"})O'"
   ]
  },
  {
   "cell_type": "code",
   "execution_count": null,
   "metadata": {},
   "outputs": [],
   "source": [
    "smiles"
   ]
  },
  {
   "cell_type": "code",
   "execution_count": null,
   "metadata": {},
   "outputs": [],
   "source": [
    "m = oddt.toolkit.readstring('smi', smiles)\n",
    "if not m.OBMol.Has3D():\n",
    "    m.make3D(forcefield='mmff94', steps=500)\n",
    "    m.removeh()\n",
    "    m.OBMol.AddPolarHydrogens()\n",
    "    \n",
    "ipd.SVG(m.write('svg', opt={'d': None, 'P': 500}))"
   ]
  },
  {
   "cell_type": "code",
   "execution_count": null,
   "metadata": {},
   "outputs": [],
   "source": [
    "m = oddt.toolkit.readstring('smi', 'c1cccc(O)c1')\n",
    "\n",
    "if not m.OBMol.Has3D():\n",
    "    m.make3D(forcefield='mmff94', steps=500)\n",
    "    m.removeh()\n",
    "    m.OBMol.AddPolarHydrogens()\n",
    "    \n",
    "ipd.SVG(m.write('svg', opt={'d': None, 'P': 500}))"
   ]
  },
  {
   "cell_type": "markdown",
   "metadata": {},
   "source": [
    "### Докинг"
   ]
  },
  {
   "cell_type": "code",
   "execution_count": null,
   "metadata": {},
   "outputs": [],
   "source": [
    "dock_obj = oddt.docking.AutodockVina.autodock_vina(\n",
    "    protein=protein, size=(10, 10, 10), center=geom_center,\n",
    "    executable='/home/leo/Software/vina/vina', autocleanup=True, num_modes=5\n",
    ")"
   ]
  },
  {
   "cell_type": "code",
   "execution_count": null,
   "metadata": {},
   "outputs": [],
   "source": [
    "print(dock_obj.tmp_dir)"
   ]
  },
  {
   "cell_type": "code",
   "execution_count": null,
   "metadata": {},
   "outputs": [],
   "source": [
    "print(' '.join(dock_obj.params))"
   ]
  },
  {
   "cell_type": "markdown",
   "metadata": {},
   "source": [
    "Здесь перечислены параметры докинга:\n",
    "\n",
    "- center(x, y, z) - центр окна докинга, в данном случае совпадает с геометрическим центром исходного лиганда\n",
    "- size(x, y, z) - размеры окна докинга, куб с соответствующими сторонами\n",
    "- exhaustiveness - отвечает за время поиска\n",
    "- num_modes - \n",
    "- energy_range "
   ]
  },
  {
   "cell_type": "code",
   "execution_count": null,
   "metadata": {},
   "outputs": [],
   "source": [
    "protein.protein"
   ]
  },
  {
   "cell_type": "code",
   "execution_count": null,
   "metadata": {},
   "outputs": [],
   "source": [
    "res = dock_obj.dock([m], protein)"
   ]
  },
  {
   "cell_type": "code",
   "execution_count": null,
   "metadata": {},
   "outputs": [],
   "source": [
    "for i, r in enumerate(res):\n",
    "    print(f'{i}, {r.formula}, {r.data[\"vina_affinity\"]}, {r.data[\"vina_rmsd_ub\"]}, {r.residues[0].name}')"
   ]
  },
  {
   "cell_type": "code",
   "execution_count": null,
   "metadata": {},
   "outputs": [],
   "source": [
    "for i, r in enumerate(res):\n",
    "    hbs = oddt.interactions.hbonds(protein, r)\n",
    "    stack = oddt.interactions.pi_stacking(protein, r)\n",
    "    phob = oddt.interactions.hydrophobic_contacts(protein, r)"
   ]
  },
  {
   "cell_type": "code",
   "execution_count": null,
   "metadata": {},
   "outputs": [],
   "source": [
    "model_list = []\n",
    "for i, r in enumerate(res):\n",
    "    r.write(filename=f'{i}.pdb', format='pdb')\n",
    "    model_list.append(f'{i}.pdb')"
   ]
  },
  {
   "cell_type": "code",
   "execution_count": null,
   "metadata": {},
   "outputs": [],
   "source": [
    "viewer(*model_list)"
   ]
  }
 ],
 "metadata": {
  "kernelspec": {
   "display_name": "Python 3",
   "language": "python",
   "name": "python3"
  },
  "language_info": {
   "codemirror_mode": {
    "name": "ipython",
    "version": 3
   },
   "file_extension": ".py",
   "mimetype": "text/x-python",
   "name": "python",
   "nbconvert_exporter": "python",
   "pygments_lexer": "ipython3",
   "version": "3.7.5"
  }
 },
 "nbformat": 4,
 "nbformat_minor": 2
}
